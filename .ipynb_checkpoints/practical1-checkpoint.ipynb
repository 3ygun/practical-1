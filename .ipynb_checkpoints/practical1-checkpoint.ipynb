{
 "cells": [
  {
   "cell_type": "markdown",
   "metadata": {},
   "source": [
    "## Practical 1: word2vec\n",
    "<p>Oxford CS - Deep NLP 2017<br>\n",
    "https://www.cs.ox.ac.uk/teaching/courses/2016-2017/dl/</p>\n",
    "<p>[Yannis Assael, Brendan Shillingford, Chris Dyer]</p>"
   ]
  },
  {
   "cell_type": "markdown",
   "metadata": {},
   "source": [
    "This practical is presented as an IPython Notebook, with the code written for recent versions of **Python 3**. The code in this practical will not work with Python 2 unless you modify it. If you are using your own Python installation, ensure you have a setup identical to that described in the installation shell script (which is intended for use with the department lab machines). We will be unable to support installation on personal machines due to time constraints, so please use the lab machines and the setup script if you are unfamiliar with how to install Anaconda.\n",
    "\n",
    "To execute a notebook cell, press `shift-enter`. The return value of the last command will be displayed, if it is not `None`.\n",
    "\n",
    "Potentially useful library documentation, references, and resources:\n",
    "\n",
    "* IPython notebooks: <https://ipython.org/ipython-doc/3/notebook/notebook.html#introduction>\n",
    "* Numpy numerical array library: <https://docs.scipy.org/doc/>\n",
    "* Gensim's word2vec: <https://radimrehurek.com/gensim/models/word2vec.html>\n",
    "* Bokeh interactive plots: <http://bokeh.pydata.org/en/latest/> (we provide plotting code here, but click the thumbnails for more examples to copy-paste)\n",
    "* scikit-learn ML library (aka `sklearn`): <http://scikit-learn.org/stable/documentation.html>\n",
    "* nltk NLP toolkit: <http://www.nltk.org/>\n",
    "* tutorial for processing xml in python using `lxml`: <http://lxml.de/tutorial.html> (we did this for you below, but in case you need it in the future)"
   ]
  },
  {
   "cell_type": "code",
   "execution_count": 2,
   "metadata": {
    "collapsed": false
   },
   "outputs": [],
   "source": [
    "import numpy as np\n",
    "import os\n",
    "from random import shuffle\n",
    "import re"
   ]
  },
  {
   "cell_type": "code",
   "execution_count": 3,
   "metadata": {
    "collapsed": false
   },
   "outputs": [
    {
     "data": {
      "text/html": [
       "\n",
       "    <div class=\"bk-root\">\n",
       "        <a href=\"http://bokeh.pydata.org\" target=\"_blank\" class=\"bk-logo bk-logo-small bk-logo-notebook\"></a>\n",
       "        <span id=\"934db411-6086-4b6e-a7f2-9419d6b61a38\">Loading BokehJS ...</span>\n",
       "    </div>"
      ]
     },
     "metadata": {},
     "output_type": "display_data"
    },
    {
     "data": {
      "application/javascript": [
       "\n",
       "(function(global) {\n",
       "  function now() {\n",
       "    return new Date();\n",
       "  }\n",
       "\n",
       "  var force = \"1\";\n",
       "\n",
       "  if (typeof (window._bokeh_onload_callbacks) === \"undefined\" || force !== \"\") {\n",
       "    window._bokeh_onload_callbacks = [];\n",
       "    window._bokeh_is_loading = undefined;\n",
       "  }\n",
       "\n",
       "\n",
       "  \n",
       "  if (typeof (window._bokeh_timeout) === \"undefined\" || force !== \"\") {\n",
       "    window._bokeh_timeout = Date.now() + 5000;\n",
       "    window._bokeh_failed_load = false;\n",
       "  }\n",
       "\n",
       "  var NB_LOAD_WARNING = {'data': {'text/html':\n",
       "     \"<div style='background-color: #fdd'>\\n\"+\n",
       "     \"<p>\\n\"+\n",
       "     \"BokehJS does not appear to have successfully loaded. If loading BokehJS from CDN, this \\n\"+\n",
       "     \"may be due to a slow or bad network connection. Possible fixes:\\n\"+\n",
       "     \"</p>\\n\"+\n",
       "     \"<ul>\\n\"+\n",
       "     \"<li>re-rerun `output_notebook()` to attempt to load from CDN again, or</li>\\n\"+\n",
       "     \"<li>use INLINE resources instead, as so:</li>\\n\"+\n",
       "     \"</ul>\\n\"+\n",
       "     \"<code>\\n\"+\n",
       "     \"from bokeh.resources import INLINE\\n\"+\n",
       "     \"output_notebook(resources=INLINE)\\n\"+\n",
       "     \"</code>\\n\"+\n",
       "     \"</div>\"}};\n",
       "\n",
       "  function display_loaded() {\n",
       "    if (window.Bokeh !== undefined) {\n",
       "      Bokeh.$(\"#934db411-6086-4b6e-a7f2-9419d6b61a38\").text(\"BokehJS successfully loaded.\");\n",
       "    } else if (Date.now() < window._bokeh_timeout) {\n",
       "      setTimeout(display_loaded, 100)\n",
       "    }\n",
       "  }\n",
       "\n",
       "  function run_callbacks() {\n",
       "    window._bokeh_onload_callbacks.forEach(function(callback) { callback() });\n",
       "    delete window._bokeh_onload_callbacks\n",
       "    console.info(\"Bokeh: all callbacks have finished\");\n",
       "  }\n",
       "\n",
       "  function load_libs(js_urls, callback) {\n",
       "    window._bokeh_onload_callbacks.push(callback);\n",
       "    if (window._bokeh_is_loading > 0) {\n",
       "      console.log(\"Bokeh: BokehJS is being loaded, scheduling callback at\", now());\n",
       "      return null;\n",
       "    }\n",
       "    if (js_urls == null || js_urls.length === 0) {\n",
       "      run_callbacks();\n",
       "      return null;\n",
       "    }\n",
       "    console.log(\"Bokeh: BokehJS not loaded, scheduling load and callback at\", now());\n",
       "    window._bokeh_is_loading = js_urls.length;\n",
       "    for (var i = 0; i < js_urls.length; i++) {\n",
       "      var url = js_urls[i];\n",
       "      var s = document.createElement('script');\n",
       "      s.src = url;\n",
       "      s.async = false;\n",
       "      s.onreadystatechange = s.onload = function() {\n",
       "        window._bokeh_is_loading--;\n",
       "        if (window._bokeh_is_loading === 0) {\n",
       "          console.log(\"Bokeh: all BokehJS libraries loaded\");\n",
       "          run_callbacks()\n",
       "        }\n",
       "      };\n",
       "      s.onerror = function() {\n",
       "        console.warn(\"failed to load library \" + url);\n",
       "      };\n",
       "      console.log(\"Bokeh: injecting script tag for BokehJS library: \", url);\n",
       "      document.getElementsByTagName(\"head\")[0].appendChild(s);\n",
       "    }\n",
       "  };var element = document.getElementById(\"934db411-6086-4b6e-a7f2-9419d6b61a38\");\n",
       "  if (element == null) {\n",
       "    console.log(\"Bokeh: ERROR: autoload.js configured with elementid '934db411-6086-4b6e-a7f2-9419d6b61a38' but no matching script tag was found. \")\n",
       "    return false;\n",
       "  }\n",
       "\n",
       "  var js_urls = ['https://cdn.pydata.org/bokeh/release/bokeh-0.12.2.min.js', 'https://cdn.pydata.org/bokeh/release/bokeh-widgets-0.12.2.min.js', 'https://cdn.pydata.org/bokeh/release/bokeh-compiler-0.12.2.min.js'];\n",
       "\n",
       "  var inline_js = [\n",
       "    function(Bokeh) {\n",
       "      Bokeh.set_log_level(\"info\");\n",
       "    },\n",
       "    \n",
       "    function(Bokeh) {\n",
       "      \n",
       "      Bokeh.$(\"#934db411-6086-4b6e-a7f2-9419d6b61a38\").text(\"BokehJS is loading...\");\n",
       "    },\n",
       "    function(Bokeh) {\n",
       "      console.log(\"Bokeh: injecting CSS: https://cdn.pydata.org/bokeh/release/bokeh-0.12.2.min.css\");\n",
       "      Bokeh.embed.inject_css(\"https://cdn.pydata.org/bokeh/release/bokeh-0.12.2.min.css\");\n",
       "      console.log(\"Bokeh: injecting CSS: https://cdn.pydata.org/bokeh/release/bokeh-widgets-0.12.2.min.css\");\n",
       "      Bokeh.embed.inject_css(\"https://cdn.pydata.org/bokeh/release/bokeh-widgets-0.12.2.min.css\");\n",
       "    }\n",
       "  ];\n",
       "\n",
       "  function run_inline_js() {\n",
       "    \n",
       "    if ((window.Bokeh !== undefined) || (force === \"1\")) {\n",
       "      for (var i = 0; i < inline_js.length; i++) {\n",
       "        inline_js[i](window.Bokeh);\n",
       "      }if (force === \"1\") {\n",
       "        display_loaded();\n",
       "      }} else if (Date.now() < window._bokeh_timeout) {\n",
       "      setTimeout(run_inline_js, 100);\n",
       "    } else if (!window._bokeh_failed_load) {\n",
       "      console.log(\"Bokeh: BokehJS failed to load within specified timeout.\");\n",
       "      window._bokeh_failed_load = true;\n",
       "    } else if (!force) {\n",
       "      var cell = $(\"#934db411-6086-4b6e-a7f2-9419d6b61a38\").parents('.cell').data().cell;\n",
       "      cell.output_area.append_execute_result(NB_LOAD_WARNING)\n",
       "    }\n",
       "\n",
       "  }\n",
       "\n",
       "  if (window._bokeh_is_loading === 0) {\n",
       "    console.log(\"Bokeh: BokehJS loaded, going straight to plotting\");\n",
       "    run_inline_js();\n",
       "  } else {\n",
       "    load_libs(js_urls, function() {\n",
       "      console.log(\"Bokeh: BokehJS plotting callback run at\", now());\n",
       "      run_inline_js();\n",
       "    });\n",
       "  }\n",
       "}(this));"
      ]
     },
     "metadata": {},
     "output_type": "display_data"
    }
   ],
   "source": [
    "from bokeh.models import ColumnDataSource, LabelSet\n",
    "from bokeh.plotting import figure, show, output_file\n",
    "from bokeh.io import output_notebook\n",
    "output_notebook()"
   ]
  },
  {
   "cell_type": "markdown",
   "metadata": {},
   "source": [
    "### Part 0: Download the TED dataset"
   ]
  },
  {
   "cell_type": "code",
   "execution_count": 4,
   "metadata": {
    "collapsed": false
   },
   "outputs": [],
   "source": [
    "import urllib.request\n",
    "import zipfile\n",
    "import lxml.etree"
   ]
  },
  {
   "cell_type": "code",
   "execution_count": 5,
   "metadata": {
    "collapsed": false
   },
   "outputs": [],
   "source": [
    "# Download the dataset if it's not already there: this may take a minute as it is 75MB\n",
    "if not os.path.isfile('ted_en-20160408.zip'):\n",
    "    urllib.request.urlretrieve(\"https://wit3.fbk.eu/get.php?path=XML_releases/xml/ted_en-20160408.zip&filename=ted_en-20160408.zip\", filename=\"ted_en-20160408.zip\")"
   ]
  },
  {
   "cell_type": "code",
   "execution_count": 6,
   "metadata": {
    "collapsed": true
   },
   "outputs": [],
   "source": [
    "# For now, we're only interested in the subtitle text, so let's extract that from the XML:\n",
    "with zipfile.ZipFile('ted_en-20160408.zip', 'r') as z:\n",
    "    doc = lxml.etree.parse(z.open('ted_en-20160408.xml', 'r'))\n",
    "input_text = '\\n'.join(doc.xpath('//content/text()'))\n",
    "del doc"
   ]
  },
  {
   "cell_type": "markdown",
   "metadata": {},
   "source": [
    "### Part 1: Preprocessing\n",
    "\n",
    "In this part, we attempt to clean up the raw subtitles a bit, so that we get only sentences. The following substring shows examples of what we're trying to get rid of. Since it's hard to define precisely what we want to get rid of, we'll just use some simple heuristics."
   ]
  },
  {
   "cell_type": "code",
   "execution_count": 7,
   "metadata": {
    "collapsed": false,
    "scrolled": false
   },
   "outputs": [
    {
     "data": {
      "text/plain": [
       "' baby does.\\n(Video) Hyowon Gweon: See this? (Ball squeaks) Did you see that? (Ball squeaks) Cool. See this one? (Ball squeaks) Wow.\\nLaura Schulz: Told you. (Laughs)\\n(Vide'"
      ]
     },
     "execution_count": 7,
     "metadata": {},
     "output_type": "execute_result"
    }
   ],
   "source": [
    "i = input_text.find(\"Hyowon Gweon: See this?\")\n",
    "input_text[i-20:i+150]"
   ]
  },
  {
   "cell_type": "markdown",
   "metadata": {},
   "source": [
    "Let's start by removing all parenthesized strings using a regex:"
   ]
  },
  {
   "cell_type": "code",
   "execution_count": 8,
   "metadata": {
    "collapsed": true
   },
   "outputs": [],
   "source": [
    "input_text_noparens = re.sub(r'\\([^)]*\\)', '', input_text)"
   ]
  },
  {
   "cell_type": "markdown",
   "metadata": {},
   "source": [
    "We can verify the same location in the text is now clean as follows. We won't worry about the irregular spaces since we'll later split the text into sentences and tokenize it anyway."
   ]
  },
  {
   "cell_type": "code",
   "execution_count": 9,
   "metadata": {
    "collapsed": false
   },
   "outputs": [
    {
     "data": {
      "text/plain": [
       "\"hat the baby does.\\n Hyowon Gweon: See this?  Did you see that?  Cool. See this one?  Wow.\\nLaura Schulz: Told you. \\n HG: See this one?  Hey Clara, this one's for you. You \""
      ]
     },
     "execution_count": 9,
     "metadata": {},
     "output_type": "execute_result"
    }
   ],
   "source": [
    "i = input_text_noparens.find(\"Hyowon Gweon: See this?\")\n",
    "input_text_noparens[i-20:i+150]"
   ]
  },
  {
   "cell_type": "markdown",
   "metadata": {},
   "source": [
    "Now, let's attempt to remove speakers' names that occur at the beginning of a line, by deleting pieces of the form \"`<up to 20 characters>:`\", as shown in this example. Of course, this is an imperfect heuristic. "
   ]
  },
  {
   "cell_type": "code",
   "execution_count": 10,
   "metadata": {
    "collapsed": false
   },
   "outputs": [
    {
     "data": {
      "text/plain": [
       "[\"Here are two reasons companies fail: they only do more of the same, or they only do what's new\",\n",
       " 'To me the real, real solution to quality growth is figuring out the balance between two activities: exploration and exploitation',\n",
       " ' Both are necessary, but it can be too much of a good thing',\n",
       " 'Consider Facit',\n",
       " \" I'm actually old enough to remember them\"]"
      ]
     },
     "execution_count": 10,
     "metadata": {},
     "output_type": "execute_result"
    }
   ],
   "source": [
    "sentences_strings_ted = []\n",
    "for line in input_text_noparens.split('\\n'):\n",
    "    m = re.match(r'^(?:(?P<precolon>[^:]{,20}):)?(?P<postcolon>.*)$', line)\n",
    "    sentences_strings_ted.extend(sent for sent in m.groupdict()['postcolon'].split('.') if sent)\n",
    "\n",
    "# Uncomment if you need to save some RAM: these strings are about 50MB.\n",
    "# del input_text, input_text_noparens\n",
    "\n",
    "# Let's view the first few:\n",
    "sentences_strings_ted[:5]"
   ]
  },
  {
   "cell_type": "markdown",
   "metadata": {},
   "source": [
    "Now that we have sentences, we're ready to tokenize each of them into words. This tokenization is imperfect, of course. For instance, how many tokens is \"can't\", and where/how do we split it? We'll take the simplest naive approach of splitting on spaces. Before splitting, we remove non-alphanumeric characters, such as punctuation. You may want to consider the following question: why do we replace these characters with spaces rather than deleting them? Think of a case where this yields a different answer."
   ]
  },
  {
   "cell_type": "code",
   "execution_count": 11,
   "metadata": {
    "collapsed": false
   },
   "outputs": [],
   "source": [
    "sentences_ted = []\n",
    "for sent_str in sentences_strings_ted:\n",
    "    tokens = re.sub(r\"[^a-z0-9]+\", \" \", sent_str.lower()).split()\n",
    "    sentences_ted.append(tokens)"
   ]
  },
  {
   "cell_type": "markdown",
   "metadata": {},
   "source": [
    "Two sample processed sentences:"
   ]
  },
  {
   "cell_type": "code",
   "execution_count": 12,
   "metadata": {
    "collapsed": false
   },
   "outputs": [
    {
     "data": {
      "text/plain": [
       "266694"
      ]
     },
     "execution_count": 12,
     "metadata": {},
     "output_type": "execute_result"
    }
   ],
   "source": [
    "len(sentences_ted)"
   ]
  },
  {
   "cell_type": "code",
   "execution_count": 13,
   "metadata": {
    "collapsed": false
   },
   "outputs": [
    {
     "name": "stdout",
     "output_type": "stream",
     "text": [
      "['here', 'are', 'two', 'reasons', 'companies', 'fail', 'they', 'only', 'do', 'more', 'of', 'the', 'same', 'or', 'they', 'only', 'do', 'what', 's', 'new']\n",
      "['to', 'me', 'the', 'real', 'real', 'solution', 'to', 'quality', 'growth', 'is', 'figuring', 'out', 'the', 'balance', 'between', 'two', 'activities', 'exploration', 'and', 'exploitation']\n"
     ]
    }
   ],
   "source": [
    "print(sentences_ted[0])\n",
    "print(sentences_ted[1])"
   ]
  },
  {
   "cell_type": "markdown",
   "metadata": {},
   "source": [
    "### Part 2: Word Frequencies"
   ]
  },
  {
   "cell_type": "markdown",
   "metadata": {},
   "source": [
    "If you store the counts of the top 1000 words in a list called `counts_ted_top1000`, the code below will plot the histogram requested in the writeup."
   ]
  },
  {
   "cell_type": "code",
   "execution_count": 36,
   "metadata": {
    "collapsed": false
   },
   "outputs": [],
   "source": [
    "# ...\n",
    "import collections\n",
    "from itertools import chain\n",
    "\n",
    "# tokens = np.array(sentences_ted)\n",
    "tokens_flat = list(chain.from_iterable(sentences_ted))\n",
    "# print(tokens_flat)\n",
    "c = collections.Counter(tokens_flat)\n",
    "\n",
    "counts_ted_top1000 = []\n",
    "words_top_ted = []\n",
    "for word, count in c.most_common(1000):\n",
    "    words_top_ted.append(word)\n",
    "    counts_ted_top1000.append(count)"
   ]
  },
  {
   "cell_type": "markdown",
   "metadata": {},
   "source": [
    "Plot distribution of top-1000 words"
   ]
  },
  {
   "cell_type": "code",
   "execution_count": 15,
   "metadata": {
    "collapsed": false
   },
   "outputs": [
    {
     "data": {
      "text/html": [
       "\n",
       "\n",
       "    <div class=\"bk-root\">\n",
       "        <div class=\"plotdiv\" id=\"c7621a7a-ab63-416c-893a-bdeaecfc17c3\"></div>\n",
       "    </div>\n",
       "<script type=\"text/javascript\">\n",
       "  \n",
       "  (function(global) {\n",
       "    function now() {\n",
       "      return new Date();\n",
       "    }\n",
       "  \n",
       "    var force = \"\";\n",
       "  \n",
       "    if (typeof (window._bokeh_onload_callbacks) === \"undefined\" || force !== \"\") {\n",
       "      window._bokeh_onload_callbacks = [];\n",
       "      window._bokeh_is_loading = undefined;\n",
       "    }\n",
       "  \n",
       "  \n",
       "    \n",
       "    if (typeof (window._bokeh_timeout) === \"undefined\" || force !== \"\") {\n",
       "      window._bokeh_timeout = Date.now() + 0;\n",
       "      window._bokeh_failed_load = false;\n",
       "    }\n",
       "  \n",
       "    var NB_LOAD_WARNING = {'data': {'text/html':\n",
       "       \"<div style='background-color: #fdd'>\\n\"+\n",
       "       \"<p>\\n\"+\n",
       "       \"BokehJS does not appear to have successfully loaded. If loading BokehJS from CDN, this \\n\"+\n",
       "       \"may be due to a slow or bad network connection. Possible fixes:\\n\"+\n",
       "       \"</p>\\n\"+\n",
       "       \"<ul>\\n\"+\n",
       "       \"<li>re-rerun `output_notebook()` to attempt to load from CDN again, or</li>\\n\"+\n",
       "       \"<li>use INLINE resources instead, as so:</li>\\n\"+\n",
       "       \"</ul>\\n\"+\n",
       "       \"<code>\\n\"+\n",
       "       \"from bokeh.resources import INLINE\\n\"+\n",
       "       \"output_notebook(resources=INLINE)\\n\"+\n",
       "       \"</code>\\n\"+\n",
       "       \"</div>\"}};\n",
       "  \n",
       "    function display_loaded() {\n",
       "      if (window.Bokeh !== undefined) {\n",
       "        Bokeh.$(\"#c7621a7a-ab63-416c-893a-bdeaecfc17c3\").text(\"BokehJS successfully loaded.\");\n",
       "      } else if (Date.now() < window._bokeh_timeout) {\n",
       "        setTimeout(display_loaded, 100)\n",
       "      }\n",
       "    }\n",
       "  \n",
       "    function run_callbacks() {\n",
       "      window._bokeh_onload_callbacks.forEach(function(callback) { callback() });\n",
       "      delete window._bokeh_onload_callbacks\n",
       "      console.info(\"Bokeh: all callbacks have finished\");\n",
       "    }\n",
       "  \n",
       "    function load_libs(js_urls, callback) {\n",
       "      window._bokeh_onload_callbacks.push(callback);\n",
       "      if (window._bokeh_is_loading > 0) {\n",
       "        console.log(\"Bokeh: BokehJS is being loaded, scheduling callback at\", now());\n",
       "        return null;\n",
       "      }\n",
       "      if (js_urls == null || js_urls.length === 0) {\n",
       "        run_callbacks();\n",
       "        return null;\n",
       "      }\n",
       "      console.log(\"Bokeh: BokehJS not loaded, scheduling load and callback at\", now());\n",
       "      window._bokeh_is_loading = js_urls.length;\n",
       "      for (var i = 0; i < js_urls.length; i++) {\n",
       "        var url = js_urls[i];\n",
       "        var s = document.createElement('script');\n",
       "        s.src = url;\n",
       "        s.async = false;\n",
       "        s.onreadystatechange = s.onload = function() {\n",
       "          window._bokeh_is_loading--;\n",
       "          if (window._bokeh_is_loading === 0) {\n",
       "            console.log(\"Bokeh: all BokehJS libraries loaded\");\n",
       "            run_callbacks()\n",
       "          }\n",
       "        };\n",
       "        s.onerror = function() {\n",
       "          console.warn(\"failed to load library \" + url);\n",
       "        };\n",
       "        console.log(\"Bokeh: injecting script tag for BokehJS library: \", url);\n",
       "        document.getElementsByTagName(\"head\")[0].appendChild(s);\n",
       "      }\n",
       "    };var element = document.getElementById(\"c7621a7a-ab63-416c-893a-bdeaecfc17c3\");\n",
       "    if (element == null) {\n",
       "      console.log(\"Bokeh: ERROR: autoload.js configured with elementid 'c7621a7a-ab63-416c-893a-bdeaecfc17c3' but no matching script tag was found. \")\n",
       "      return false;\n",
       "    }\n",
       "  \n",
       "    var js_urls = [];\n",
       "  \n",
       "    var inline_js = [\n",
       "      function(Bokeh) {\n",
       "        Bokeh.$(function() {\n",
       "            var docs_json = {\"9ae95142-528d-4225-8e6e-161e9d847a30\":{\"roots\":{\"references\":[{\"attributes\":{\"plot\":{\"id\":\"74f3c347-3c0a-4d89-9884-0191e0dccd96\",\"subtype\":\"Figure\",\"type\":\"Plot\"}},\"id\":\"db38b2a4-40c9-4b63-a43e-87434e661f72\",\"type\":\"SaveTool\"},{\"attributes\":{\"plot\":{\"id\":\"74f3c347-3c0a-4d89-9884-0191e0dccd96\",\"subtype\":\"Figure\",\"type\":\"Plot\"}},\"id\":\"c54f3dc0-452a-469c-9cbb-866799908d6c\",\"type\":\"PanTool\"},{\"attributes\":{\"active_drag\":\"auto\",\"active_scroll\":\"auto\",\"active_tap\":\"auto\",\"tools\":[{\"id\":\"c54f3dc0-452a-469c-9cbb-866799908d6c\",\"type\":\"PanTool\"},{\"id\":\"50b5ee0a-091d-4b04-bc89-8af70568a086\",\"type\":\"WheelZoomTool\"},{\"id\":\"df9a3522-432c-47fa-a6d0-8d0ad6f25d7b\",\"type\":\"ResetTool\"},{\"id\":\"db38b2a4-40c9-4b63-a43e-87434e661f72\",\"type\":\"SaveTool\"}]},\"id\":\"2c50438f-80e9-4409-af11-dd8fa7e9ed46\",\"type\":\"Toolbar\"},{\"attributes\":{\"plot\":{\"id\":\"74f3c347-3c0a-4d89-9884-0191e0dccd96\",\"subtype\":\"Figure\",\"type\":\"Plot\"}},\"id\":\"50b5ee0a-091d-4b04-bc89-8af70568a086\",\"type\":\"WheelZoomTool\"},{\"attributes\":{},\"id\":\"1e1a1adf-175a-4e61-98e0-a91aec122f60\",\"type\":\"BasicTickFormatter\"},{\"attributes\":{},\"id\":\"9d0ac6ed-4c64-459c-b9a5-99c9831077d6\",\"type\":\"ToolEvents\"},{\"attributes\":{\"formatter\":{\"id\":\"6945e26b-dfa9-4657-8196-247a5a0b4502\",\"type\":\"BasicTickFormatter\"},\"plot\":{\"id\":\"74f3c347-3c0a-4d89-9884-0191e0dccd96\",\"subtype\":\"Figure\",\"type\":\"Plot\"},\"ticker\":{\"id\":\"3a752054-d069-4cde-932a-99df7ec49c21\",\"type\":\"BasicTicker\"}},\"id\":\"acaaddbb-a773-4684-b2cd-4291e171dd7e\",\"type\":\"LinearAxis\"},{\"attributes\":{\"bottom\":{\"value\":0},\"fill_color\":{\"value\":\"#1f77b4\"},\"left\":{\"field\":\"left\"},\"line_color\":{\"value\":\"#555555\"},\"right\":{\"field\":\"right\"},\"top\":{\"field\":\"top\"}},\"id\":\"91654a5e-e7b2-4ddc-846d-37a2a1e1fcf1\",\"type\":\"Quad\"},{\"attributes\":{\"plot\":{\"id\":\"74f3c347-3c0a-4d89-9884-0191e0dccd96\",\"subtype\":\"Figure\",\"type\":\"Plot\"}},\"id\":\"df9a3522-432c-47fa-a6d0-8d0ad6f25d7b\",\"type\":\"ResetTool\"},{\"attributes\":{\"bottom\":{\"value\":0},\"fill_alpha\":{\"value\":0.1},\"fill_color\":{\"value\":\"#1f77b4\"},\"left\":{\"field\":\"left\"},\"line_alpha\":{\"value\":0.1},\"line_color\":{\"value\":\"#1f77b4\"},\"right\":{\"field\":\"right\"},\"top\":{\"field\":\"top\"}},\"id\":\"dfe51af5-2963-4663-874b-4d862bc024b1\",\"type\":\"Quad\"},{\"attributes\":{\"dimension\":1,\"plot\":{\"id\":\"74f3c347-3c0a-4d89-9884-0191e0dccd96\",\"subtype\":\"Figure\",\"type\":\"Plot\"},\"ticker\":{\"id\":\"3a752054-d069-4cde-932a-99df7ec49c21\",\"type\":\"BasicTicker\"}},\"id\":\"ce9172d1-ea79-4ae5-8231-19163c681936\",\"type\":\"Grid\"},{\"attributes\":{\"formatter\":{\"id\":\"1e1a1adf-175a-4e61-98e0-a91aec122f60\",\"type\":\"BasicTickFormatter\"},\"plot\":{\"id\":\"74f3c347-3c0a-4d89-9884-0191e0dccd96\",\"subtype\":\"Figure\",\"type\":\"Plot\"},\"ticker\":{\"id\":\"7fd885a2-4b3f-466e-85c1-c65c9a133cae\",\"type\":\"BasicTicker\"}},\"id\":\"8b1f8173-1585-4eb2-86c4-ca67dc1b4a74\",\"type\":\"LinearAxis\"},{\"attributes\":{\"below\":[{\"id\":\"8b1f8173-1585-4eb2-86c4-ca67dc1b4a74\",\"type\":\"LinearAxis\"}],\"left\":[{\"id\":\"acaaddbb-a773-4684-b2cd-4291e171dd7e\",\"type\":\"LinearAxis\"}],\"renderers\":[{\"id\":\"8b1f8173-1585-4eb2-86c4-ca67dc1b4a74\",\"type\":\"LinearAxis\"},{\"id\":\"0beed72f-57e9-4583-8b98-767bec676b21\",\"type\":\"Grid\"},{\"id\":\"acaaddbb-a773-4684-b2cd-4291e171dd7e\",\"type\":\"LinearAxis\"},{\"id\":\"ce9172d1-ea79-4ae5-8231-19163c681936\",\"type\":\"Grid\"},{\"id\":\"38aca291-c357-4ed1-8576-4c95169774ee\",\"type\":\"GlyphRenderer\"}],\"title\":{\"id\":\"1e7fd1dc-3a47-4e55-8ed2-cb5f1ba34fcc\",\"type\":\"Title\"},\"tool_events\":{\"id\":\"9d0ac6ed-4c64-459c-b9a5-99c9831077d6\",\"type\":\"ToolEvents\"},\"toolbar\":{\"id\":\"2c50438f-80e9-4409-af11-dd8fa7e9ed46\",\"type\":\"Toolbar\"},\"toolbar_location\":\"above\",\"x_range\":{\"id\":\"73303e74-afdb-42a9-bdf0-cc3768c0e2e8\",\"type\":\"DataRange1d\"},\"y_range\":{\"id\":\"65ac6a38-36c7-42dc-8ff9-e96f7f37e895\",\"type\":\"DataRange1d\"}},\"id\":\"74f3c347-3c0a-4d89-9884-0191e0dccd96\",\"subtype\":\"Figure\",\"type\":\"Plot\"},{\"attributes\":{\"plot\":null,\"text\":\"Top-1000 words distribution\"},\"id\":\"1e7fd1dc-3a47-4e55-8ed2-cb5f1ba34fcc\",\"type\":\"Title\"},{\"attributes\":{},\"id\":\"3a752054-d069-4cde-932a-99df7ec49c21\",\"type\":\"BasicTicker\"},{\"attributes\":{\"plot\":{\"id\":\"74f3c347-3c0a-4d89-9884-0191e0dccd96\",\"subtype\":\"Figure\",\"type\":\"Plot\"},\"ticker\":{\"id\":\"7fd885a2-4b3f-466e-85c1-c65c9a133cae\",\"type\":\"BasicTicker\"}},\"id\":\"0beed72f-57e9-4583-8b98-767bec676b21\",\"type\":\"Grid\"},{\"attributes\":{},\"id\":\"6945e26b-dfa9-4657-8196-247a5a0b4502\",\"type\":\"BasicTickFormatter\"},{\"attributes\":{\"callback\":null,\"column_names\":[\"left\",\"top\",\"right\"],\"data\":{\"left\":[404.0,2477.44,4550.88,6624.32,8697.76,10771.2,12844.64,14918.08,16991.52,19064.96,21138.4,23211.84,25285.28,27358.72,29432.16,31505.600000000002,33579.04,35652.48,37725.92,39799.36,41872.8,43946.24,46019.68,48093.12,50166.56,52240.0,54313.44,56386.880000000005,58460.32,60533.76,62607.200000000004,64680.64,66754.08,68827.52,70900.96,72974.40000000001,75047.84,77121.28,79194.72,81268.16,83341.6,85415.04000000001,87488.48,89561.92,91635.36,93708.8,95782.24,97855.68000000001,99929.12,102002.56,104076.0,106149.44,108222.88,110296.32,112369.76000000001,114443.2,116516.64,118590.08,120663.52,122736.96,124810.40000000001,126883.84,128957.28,131030.72,133104.16,135177.6,137251.04,139324.48,141397.92,143471.36000000002,145544.80000000002,147618.24,149691.68,151765.12,153838.56,155912.0,157985.44,160058.88,162132.32,164205.76,166279.2,168352.64,170426.08000000002,172499.52000000002,174572.96,176646.4,178719.84,180793.28,182866.72,184940.16,187013.6,189087.04,191160.48,193233.92,195307.36000000002,197380.80000000002,199454.24,201527.68,203601.12,205674.56],\"right\":[2477.44,4550.88,6624.32,8697.76,10771.2,12844.64,14918.08,16991.52,19064.96,21138.4,23211.84,25285.28,27358.72,29432.16,31505.600000000002,33579.04,35652.48,37725.92,39799.36,41872.8,43946.24,46019.68,48093.12,50166.56,52240.0,54313.44,56386.880000000005,58460.32,60533.76,62607.200000000004,64680.64,66754.08,68827.52,70900.96,72974.40000000001,75047.84,77121.28,79194.72,81268.16,83341.6,85415.04000000001,87488.48,89561.92,91635.36,93708.8,95782.24,97855.68000000001,99929.12,102002.56,104076.0,106149.44,108222.88,110296.32,112369.76000000001,114443.2,116516.64,118590.08,120663.52,122736.96,124810.40000000001,126883.84,128957.28,131030.72,133104.16,135177.6,137251.04,139324.48,141397.92,143471.36000000002,145544.80000000002,147618.24,149691.68,151765.12,153838.56,155912.0,157985.44,160058.88,162132.32,164205.76,166279.2,168352.64,170426.08000000002,172499.52000000002,174572.96,176646.4,178719.84,180793.28,182866.72,184940.16,187013.6,189087.04,191160.48,193233.92,195307.36000000002,197380.80000000002,199454.24,201527.68,203601.12,205674.56,207748.0],\"top\":[0.0003892082722432286,3.327803071224632e-05,1.3504128404969522e-05,8.681225403194689e-06,8.198935103017207e-06,5.305193301952315e-06,4.340612701597344e-06,1.929161200709931e-06,2.893741801064899e-06,1.929161200709929e-06,9.645806003549663e-07,9.645806003549663e-07,1.929161200709929e-06,4.822903001774831e-07,9.645806003549646e-07,4.822903001774831e-07,0.0,4.82290300177484e-07,0.0,0.0,0.0,0.0,0.0,4.82290300177484e-07,0.0,0.0,0.0,4.82290300177484e-07,0.0,0.0,4.82290300177484e-07,0.0,4.822903001774823e-07,0.0,4.822903001774823e-07,4.822903001774857e-07,0.0,4.822903001774823e-07,0.0,4.822903001774823e-07,0.0,0.0,0.0,0.0,0.0,4.822903001774823e-07,0.0,0.0,0.0,0.0,4.822903001774823e-07,0.0,0.0,0.0,0.0,4.822903001774823e-07,0.0,0.0,0.0,0.0,4.822903001774857e-07,0.0,0.0,0.0,0.0,0.0,0.0,0.0,0.0,0.0,0.0,4.822903001774823e-07,0.0,0.0,0.0,0.0,0.0,0.0,0.0,0.0,0.0,0.0,0.0,0.0,0.0,0.0,0.0,0.0,0.0,0.0,0.0,0.0,0.0,0.0,0.0,0.0,0.0,0.0,0.0,4.822903001774823e-07]}},\"id\":\"b9f0d305-6237-497f-8f9d-0f8231e28809\",\"type\":\"ColumnDataSource\"},{\"attributes\":{},\"id\":\"7fd885a2-4b3f-466e-85c1-c65c9a133cae\",\"type\":\"BasicTicker\"},{\"attributes\":{\"callback\":null},\"id\":\"65ac6a38-36c7-42dc-8ff9-e96f7f37e895\",\"type\":\"DataRange1d\"},{\"attributes\":{\"data_source\":{\"id\":\"b9f0d305-6237-497f-8f9d-0f8231e28809\",\"type\":\"ColumnDataSource\"},\"glyph\":{\"id\":\"91654a5e-e7b2-4ddc-846d-37a2a1e1fcf1\",\"type\":\"Quad\"},\"hover_glyph\":null,\"nonselection_glyph\":{\"id\":\"dfe51af5-2963-4663-874b-4d862bc024b1\",\"type\":\"Quad\"},\"selection_glyph\":null},\"id\":\"38aca291-c357-4ed1-8576-4c95169774ee\",\"type\":\"GlyphRenderer\"},{\"attributes\":{\"callback\":null},\"id\":\"73303e74-afdb-42a9-bdf0-cc3768c0e2e8\",\"type\":\"DataRange1d\"}],\"root_ids\":[\"74f3c347-3c0a-4d89-9884-0191e0dccd96\"]},\"title\":\"Bokeh Application\",\"version\":\"0.12.2\"}};\n",
       "            var render_items = [{\"docid\":\"9ae95142-528d-4225-8e6e-161e9d847a30\",\"elementid\":\"c7621a7a-ab63-416c-893a-bdeaecfc17c3\",\"modelid\":\"74f3c347-3c0a-4d89-9884-0191e0dccd96\"}];\n",
       "            \n",
       "            Bokeh.embed.embed_items(docs_json, render_items);\n",
       "        });\n",
       "      },\n",
       "      function(Bokeh) {\n",
       "      }\n",
       "    ];\n",
       "  \n",
       "    function run_inline_js() {\n",
       "      \n",
       "      if ((window.Bokeh !== undefined) || (force === \"1\")) {\n",
       "        for (var i = 0; i < inline_js.length; i++) {\n",
       "          inline_js[i](window.Bokeh);\n",
       "        }if (force === \"1\") {\n",
       "          display_loaded();\n",
       "        }} else if (Date.now() < window._bokeh_timeout) {\n",
       "        setTimeout(run_inline_js, 100);\n",
       "      } else if (!window._bokeh_failed_load) {\n",
       "        console.log(\"Bokeh: BokehJS failed to load within specified timeout.\");\n",
       "        window._bokeh_failed_load = true;\n",
       "      } else if (!force) {\n",
       "        var cell = $(\"#c7621a7a-ab63-416c-893a-bdeaecfc17c3\").parents('.cell').data().cell;\n",
       "        cell.output_area.append_execute_result(NB_LOAD_WARNING)\n",
       "      }\n",
       "  \n",
       "    }\n",
       "  \n",
       "    if (window._bokeh_is_loading === 0) {\n",
       "      console.log(\"Bokeh: BokehJS loaded, going straight to plotting\");\n",
       "      run_inline_js();\n",
       "    } else {\n",
       "      load_libs(js_urls, function() {\n",
       "        console.log(\"Bokeh: BokehJS plotting callback run at\", now());\n",
       "        run_inline_js();\n",
       "      });\n",
       "    }\n",
       "  }(this));\n",
       "</script>"
      ]
     },
     "metadata": {},
     "output_type": "display_data"
    }
   ],
   "source": [
    "hist, edges = np.histogram(counts_ted_top1000, density=True, bins=100, normed=True)\n",
    "\n",
    "p = figure(tools=\"pan,wheel_zoom,reset,save\",\n",
    "           toolbar_location=\"above\",\n",
    "           title=\"Top-1000 words distribution\")\n",
    "p.quad(top=hist, bottom=0, left=edges[:-1], right=edges[1:], line_color=\"#555555\")\n",
    "show(p)"
   ]
  },
  {
   "cell_type": "markdown",
   "metadata": {},
   "source": [
    "### Part 3: Train Word2Vec"
   ]
  },
  {
   "cell_type": "code",
   "execution_count": 16,
   "metadata": {
    "collapsed": false
   },
   "outputs": [],
   "source": [
    "from gensim.models import Word2Vec"
   ]
  },
  {
   "cell_type": "code",
   "execution_count": 17,
   "metadata": {
    "collapsed": false
   },
   "outputs": [],
   "source": [
    "# ...\n",
    "model = Word2Vec(sentences_ted, min_count=10)"
   ]
  },
  {
   "cell_type": "code",
   "execution_count": 26,
   "metadata": {
    "collapsed": false
   },
   "outputs": [
    {
     "data": {
      "text/plain": [
       "14427"
      ]
     },
     "execution_count": 26,
     "metadata": {},
     "output_type": "execute_result"
    }
   ],
   "source": [
    "model_ted = model\n",
    "len(model_ted.wv.vocab)"
   ]
  },
  {
   "cell_type": "markdown",
   "metadata": {},
   "source": [
    "### Part 4: Ted Learnt Representations"
   ]
  },
  {
   "cell_type": "markdown",
   "metadata": {},
   "source": [
    "Finding similar words: (see gensim docs for more functionality of `most_similar`)"
   ]
  },
  {
   "cell_type": "code",
   "execution_count": 19,
   "metadata": {
    "collapsed": false
   },
   "outputs": [
    {
     "data": {
      "text/plain": [
       "[('woman', 0.8408796787261963),\n",
       " ('guy', 0.8087946176528931),\n",
       " ('lady', 0.7613054513931274),\n",
       " ('boy', 0.7424315214157104),\n",
       " ('gentleman', 0.7382900714874268),\n",
       " ('girl', 0.7237838506698608),\n",
       " ('poet', 0.7050586342811584),\n",
       " ('kid', 0.6810448169708252),\n",
       " ('soldier', 0.6767157316207886),\n",
       " ('friend', 0.649917483329773)]"
      ]
     },
     "execution_count": 19,
     "metadata": {},
     "output_type": "execute_result"
    }
   ],
   "source": [
    "model_ted.most_similar(\"man\")"
   ]
  },
  {
   "cell_type": "code",
   "execution_count": 20,
   "metadata": {
    "collapsed": false
   },
   "outputs": [
    {
     "data": {
      "text/plain": [
       "[('machine', 0.7601946592330933),\n",
       " ('device', 0.6984061002731323),\n",
       " ('software', 0.6865758895874023),\n",
       " ('robot', 0.6792389154434204),\n",
       " ('program', 0.6601080298423767),\n",
       " ('printer', 0.6590133905410767),\n",
       " ('circuit', 0.6489701271057129),\n",
       " ('3d', 0.6409989595413208),\n",
       " ('code', 0.6245067119598389),\n",
       " ('interface', 0.6237049102783203)]"
      ]
     },
     "execution_count": 20,
     "metadata": {},
     "output_type": "execute_result"
    }
   ],
   "source": [
    "model_ted.most_similar(\"computer\")"
   ]
  },
  {
   "cell_type": "code",
   "execution_count": 28,
   "metadata": {
    "collapsed": false
   },
   "outputs": [
    {
     "data": {
      "text/plain": [
       "[('conference', 0.7565326690673828),\n",
       " ('tonight', 0.5788469314575195),\n",
       " ('chris', 0.5771138072013855),\n",
       " ('mit', 0.5377058982849121),\n",
       " ('john', 0.532619833946228),\n",
       " ('tedwomen', 0.5092617273330688),\n",
       " ('fox', 0.4958481192588806),\n",
       " ('oxford', 0.49443721771240234),\n",
       " ('harvard', 0.49435335397720337),\n",
       " ('david', 0.4918699860572815)]"
      ]
     },
     "execution_count": 28,
     "metadata": {},
     "output_type": "execute_result"
    }
   ],
   "source": [
    "# ...\n",
    "model_ted.most_similar(\"ted\")"
   ]
  },
  {
   "cell_type": "code",
   "execution_count": 34,
   "metadata": {
    "collapsed": false
   },
   "outputs": [
    {
     "data": {
      "text/plain": [
       "[('luck', 0.5507286190986633),\n",
       " ('fortune', 0.49706438183784485),\n",
       " ('ted', 0.44022202491760254),\n",
       " ('thing', 0.4307240843772888),\n",
       " ('advice', 0.4249690771102905),\n",
       " ('conclusion', 0.42474931478500366),\n",
       " ('bad', 0.4177316725254059),\n",
       " ('mornings', 0.41093701124191284),\n",
       " ('headlines', 0.41006600856781006),\n",
       " ('privilege', 0.4023681581020355)]"
      ]
     },
     "execution_count": 34,
     "metadata": {},
     "output_type": "execute_result"
    }
   ],
   "source": [
    "model_ted.most_similar(\"news\")"
   ]
  },
  {
   "cell_type": "markdown",
   "metadata": {},
   "source": [
    "#### t-SNE visualization\n",
    "To use the t-SNE code below, first put a list of the top 1000 words (as strings) into a variable `words_top_ted`. The following code gets the corresponding vectors from the model, assuming it's called `model_ted`:"
   ]
  },
  {
   "cell_type": "code",
   "execution_count": 37,
   "metadata": {
    "collapsed": false
   },
   "outputs": [],
   "source": [
    "# This assumes words_top_ted is a list of strings, the top 1000 words\n",
    "words_top_vec_ted = model_ted[words_top_ted]"
   ]
  },
  {
   "cell_type": "code",
   "execution_count": 38,
   "metadata": {
    "collapsed": false
   },
   "outputs": [],
   "source": [
    "from sklearn.manifold import TSNE\n",
    "tsne = TSNE(n_components=2, random_state=0)\n",
    "words_top_ted_tsne = tsne.fit_transform(words_top_vec_ted)"
   ]
  },
  {
   "cell_type": "code",
   "execution_count": 39,
   "metadata": {
    "collapsed": false,
    "scrolled": false
   },
   "outputs": [
    {
     "data": {
      "text/html": [
       "\n",
       "\n",
       "    <div class=\"bk-root\">\n",
       "        <div class=\"plotdiv\" id=\"c2348353-18f2-4f8d-a8cf-13b59869e26e\"></div>\n",
       "    </div>\n",
       "<script type=\"text/javascript\">\n",
       "  \n",
       "  (function(global) {\n",
       "    function now() {\n",
       "      return new Date();\n",
       "    }\n",
       "  \n",
       "    var force = \"\";\n",
       "  \n",
       "    if (typeof (window._bokeh_onload_callbacks) === \"undefined\" || force !== \"\") {\n",
       "      window._bokeh_onload_callbacks = [];\n",
       "      window._bokeh_is_loading = undefined;\n",
       "    }\n",
       "  \n",
       "  \n",
       "    \n",
       "    if (typeof (window._bokeh_timeout) === \"undefined\" || force !== \"\") {\n",
       "      window._bokeh_timeout = Date.now() + 0;\n",
       "      window._bokeh_failed_load = false;\n",
       "    }\n",
       "  \n",
       "    var NB_LOAD_WARNING = {'data': {'text/html':\n",
       "       \"<div style='background-color: #fdd'>\\n\"+\n",
       "       \"<p>\\n\"+\n",
       "       \"BokehJS does not appear to have successfully loaded. If loading BokehJS from CDN, this \\n\"+\n",
       "       \"may be due to a slow or bad network connection. Possible fixes:\\n\"+\n",
       "       \"</p>\\n\"+\n",
       "       \"<ul>\\n\"+\n",
       "       \"<li>re-rerun `output_notebook()` to attempt to load from CDN again, or</li>\\n\"+\n",
       "       \"<li>use INLINE resources instead, as so:</li>\\n\"+\n",
       "       \"</ul>\\n\"+\n",
       "       \"<code>\\n\"+\n",
       "       \"from bokeh.resources import INLINE\\n\"+\n",
       "       \"output_notebook(resources=INLINE)\\n\"+\n",
       "       \"</code>\\n\"+\n",
       "       \"</div>\"}};\n",
       "  \n",
       "    function display_loaded() {\n",
       "      if (window.Bokeh !== undefined) {\n",
       "        Bokeh.$(\"#c2348353-18f2-4f8d-a8cf-13b59869e26e\").text(\"BokehJS successfully loaded.\");\n",
       "      } else if (Date.now() < window._bokeh_timeout) {\n",
       "        setTimeout(display_loaded, 100)\n",
       "      }\n",
       "    }\n",
       "  \n",
       "    function run_callbacks() {\n",
       "      window._bokeh_onload_callbacks.forEach(function(callback) { callback() });\n",
       "      delete window._bokeh_onload_callbacks\n",
       "      console.info(\"Bokeh: all callbacks have finished\");\n",
       "    }\n",
       "  \n",
       "    function load_libs(js_urls, callback) {\n",
       "      window._bokeh_onload_callbacks.push(callback);\n",
       "      if (window._bokeh_is_loading > 0) {\n",
       "        console.log(\"Bokeh: BokehJS is being loaded, scheduling callback at\", now());\n",
       "        return null;\n",
       "      }\n",
       "      if (js_urls == null || js_urls.length === 0) {\n",
       "        run_callbacks();\n",
       "        return null;\n",
       "      }\n",
       "      console.log(\"Bokeh: BokehJS not loaded, scheduling load and callback at\", now());\n",
       "      window._bokeh_is_loading = js_urls.length;\n",
       "      for (var i = 0; i < js_urls.length; i++) {\n",
       "        var url = js_urls[i];\n",
       "        var s = document.createElement('script');\n",
       "        s.src = url;\n",
       "        s.async = false;\n",
       "        s.onreadystatechange = s.onload = function() {\n",
       "          window._bokeh_is_loading--;\n",
       "          if (window._bokeh_is_loading === 0) {\n",
       "            console.log(\"Bokeh: all BokehJS libraries loaded\");\n",
       "            run_callbacks()\n",
       "          }\n",
       "        };\n",
       "        s.onerror = function() {\n",
       "          console.warn(\"failed to load library \" + url);\n",
       "        };\n",
       "        console.log(\"Bokeh: injecting script tag for BokehJS library: \", url);\n",
       "        document.getElementsByTagName(\"head\")[0].appendChild(s);\n",
       "      }\n",
       "    };var element = document.getElementById(\"c2348353-18f2-4f8d-a8cf-13b59869e26e\");\n",
       "    if (element == null) {\n",
       "      console.log(\"Bokeh: ERROR: autoload.js configured with elementid 'c2348353-18f2-4f8d-a8cf-13b59869e26e' but no matching script tag was found. \")\n",
       "      return false;\n",
       "    }\n",
       "  \n",
       "    var js_urls = [];\n",
       "  \n",
       "    var inline_js = [\n",
       "      function(Bokeh) {\n",
       "        Bokeh.$(function() {\n",
       "            var docs_json = {\"7fd0beb5-c063-4a90-9fd9-1956d6d33f9e\":{\"roots\":{\"references\":[{\"attributes\":{\"callback\":null,\"column_names\":[\"x2\",\"names\",\"x1\"],\"data\":{\"names\":[\"the\",\"and\",\"to\",\"of\",\"a\",\"that\",\"i\",\"in\",\"it\",\"you\",\"we\",\"is\",\"s\",\"this\",\"so\",\"they\",\"was\",\"for\",\"are\",\"have\",\"but\",\"what\",\"on\",\"with\",\"can\",\"t\",\"about\",\"there\",\"be\",\"as\",\"at\",\"all\",\"not\",\"do\",\"my\",\"one\",\"re\",\"people\",\"like\",\"if\",\"from\",\"now\",\"our\",\"he\",\"an\",\"just\",\"these\",\"or\",\"when\",\"because\",\"very\",\"me\",\"out\",\"by\",\"them\",\"how\",\"know\",\"up\",\"going\",\"had\",\"more\",\"think\",\"who\",\"were\",\"see\",\"your\",\"their\",\"which\",\"would\",\"here\",\"really\",\"get\",\"ve\",\"then\",\"m\",\"world\",\"us\",\"time\",\"some\",\"has\",\"don\",\"actually\",\"into\",\"way\",\"where\",\"will\",\"years\",\"things\",\"other\",\"no\",\"could\",\"go\",\"well\",\"want\",\"been\",\"make\",\"right\",\"she\",\"said\",\"something\",\"those\",\"first\",\"two\",\"than\",\"much\",\"also\",\"look\",\"new\",\"thing\",\"little\",\"got\",\"back\",\"over\",\"most\",\"say\",\"even\",\"his\",\"life\",\"only\",\"work\",\"many\",\"take\",\"need\",\"did\",\"lot\",\"kind\",\"why\",\"good\",\"around\",\"every\",\"different\",\"down\",\"ll\",\"let\",\"her\",\"through\",\"same\",\"being\",\"come\",\"d\",\"day\",\"year\",\"three\",\"use\",\"doing\",\"put\",\"called\",\"any\",\"today\",\"percent\",\"made\",\"after\",\"thank\",\"tell\",\"great\",\"human\",\"find\",\"didn\",\"fact\",\"talk\",\"change\",\"started\",\"another\",\"idea\",\"big\",\"last\",\"own\",\"before\",\"its\",\"never\",\"should\",\"better\",\"give\",\"thought\",\"went\",\"might\",\"important\",\"000\",\"again\",\"able\",\"together\",\"still\",\"problem\",\"off\",\"next\",\"part\",\"course\",\"system\",\"him\",\"does\",\"each\",\"start\",\"show\",\"long\",\"ago\",\"story\",\"came\",\"brain\",\"few\",\"bit\",\"between\",\"used\",\"place\",\"technology\",\"women\",\"too\",\"old\",\"mean\",\"data\",\"water\",\"looking\",\"question\",\"maybe\",\"found\",\"love\",\"doesn\",\"end\",\"example\",\"10\",\"done\",\"point\",\"four\",\"real\",\"wanted\",\"ever\",\"understand\",\"school\",\"sort\",\"live\",\"call\",\"whole\",\"children\",\"always\",\"trying\",\"may\",\"person\",\"away\",\"believe\",\"feel\",\"try\",\"million\",\"working\",\"help\",\"everything\",\"five\",\"country\",\"thinking\",\"second\",\"using\",\"information\",\"money\",\"means\",\"power\",\"took\",\"times\",\"high\",\"space\",\"number\",\"kids\",\"home\",\"become\",\"create\",\"small\",\"design\",\"making\",\"best\",\"left\",\"getting\",\"future\",\"enough\",\"man\",\"quite\",\"city\",\"without\",\"sense\",\"happened\",\"comes\",\"social\",\"probably\",\"light\",\"less\",\"energy\",\"talking\",\"am\",\"building\",\"science\",\"food\",\"body\",\"told\",\"interesting\",\"half\",\"ask\",\"pretty\",\"play\",\"hard\",\"anything\",\"lives\",\"countries\",\"such\",\"coming\",\"family\",\"stuff\",\"dollars\",\"moment\",\"earth\",\"20\",\"imagine\",\"across\",\"side\",\"while\",\"saw\",\"happen\",\"okay\",\"once\",\"build\",\"having\",\"men\",\"later\",\"experience\",\"asked\",\"makes\",\"living\",\"seen\",\"says\",\"room\",\"hand\",\"simple\",\"health\",\"ways\",\"else\",\"case\",\"almost\",\"yet\",\"young\",\"days\",\"nothing\",\"care\",\"bad\",\"happens\",\"goes\",\"move\",\"states\",\"reason\",\"computer\",\"open\",\"africa\",\"learn\",\"process\",\"inside\",\"someone\",\"six\",\"far\",\"project\",\"mind\",\"remember\",\"single\",\"picture\",\"both\",\"whether\",\"problems\",\"community\",\"basically\",\"saying\",\"already\",\"within\",\"looked\",\"myself\",\"billion\",\"possible\",\"often\",\"business\",\"planet\",\"global\",\"top\",\"everybody\",\"public\",\"sure\",\"set\",\"wrong\",\"car\",\"book\",\"keep\",\"yes\",\"answer\",\"oh\",\"hope\",\"sometimes\",\"history\",\"true\",\"war\",\"child\",\"guy\",\"instead\",\"months\",\"ideas\",\"looks\",\"matter\",\"government\",\"amazing\",\"united\",\"since\",\"cells\",\"age\",\"bring\",\"job\",\"heard\",\"until\",\"face\",\"wasn\",\"100\",\"read\",\"control\",\"isn\",\"research\",\"30\",\"words\",\"u\",\"group\",\"under\",\"self\",\"somebody\",\"built\",\"state\",\"woman\",\"turn\",\"beautiful\",\"friends\",\"line\",\"knew\",\"couple\",\"order\",\"form\",\"yeah\",\"internet\",\"middle\",\"music\",\"piece\",\"nature\",\"head\",\"though\",\"stop\",\"everyone\",\"50\",\"places\",\"video\",\"learned\",\"language\",\"run\",\"night\",\"decided\",\"study\",\"word\",\"cancer\",\"works\",\"taking\",\"became\",\"exactly\",\"species\",\"completely\",\"society\",\"education\",\"against\",\"stories\",\"large\",\"share\",\"level\",\"heart\",\"america\",\"model\",\"questions\",\"gets\",\"mother\",\"god\",\"company\",\"turns\",\"ourselves\",\"happening\",\"hear\",\"art\",\"themselves\",\"must\",\"itself\",\"kinds\",\"rather\",\"students\",\"name\",\"hours\",\"disease\",\"front\",\"house\",\"huge\",\"couldn\",\"created\",\"universe\",\"ok\",\"animals\",\"american\",\"environment\",\"worked\",\"minutes\",\"ones\",\"black\",\"1\",\"perhaps\",\"past\",\"third\",\"along\",\"others\",\"finally\",\"early\",\"sound\",\"game\",\"thousands\",\"century\",\"least\",\"based\",\"per\",\"ted\",\"lots\",\"figure\",\"free\",\"guys\",\"particular\",\"happy\",\"news\",\"learning\",\"entire\",\"won\",\"gave\",\"machine\",\"india\",\"during\",\"systems\",\"air\",\"difference\",\"outside\",\"taken\",\"natural\",\"seven\",\"given\",\"changed\",\"leave\",\"cell\",\"15\",\"close\",\"cities\",\"behind\",\"full\",\"scale\",\"difficult\",\"china\",\"takes\",\"companies\",\"yourself\",\"area\",\"reality\",\"seeing\",\"easy\",\"turned\",\"cost\",\"eyes\",\"moving\",\"team\",\"population\",\"culture\",\"york\",\"hands\",\"began\",\"whatever\",\"terms\",\"needs\",\"image\",\"simply\",\"needed\",\"beginning\",\"father\",\"local\",\"realized\",\"media\",\"parents\",\"death\",\"view\",\"walk\",\"white\",\"market\",\"parts\",\"ocean\",\"economic\",\"eight\",\"powerful\",\"known\",\"week\",\"size\",\"felt\",\"humans\",\"certain\",\"spend\",\"longer\",\"phone\",\"wonderful\",\"cannot\",\"common\",\"grow\",\"tried\",\"center\",\"fish\",\"land\",\"oil\",\"deal\",\"political\",\"interested\",\"red\",\"gone\",\"amount\",\"weeks\",\"spent\",\"opportunity\",\"lost\",\"paper\",\"quickly\",\"national\",\"blue\",\"step\",\"poor\",\"green\",\"buy\",\"wouldn\",\"growth\",\"either\",\"patients\",\"sitting\",\"ability\",\"changes\",\"write\",\"south\",\"challenge\",\"low\",\"growing\",\"friend\",\"field\",\"2\",\"shows\",\"rest\",\"born\",\"climate\",\"40\",\"test\",\"street\",\"incredible\",\"surface\",\"average\",\"value\",\"morning\",\"pay\",\"physical\",\"program\",\"scientists\",\"met\",\"feeling\",\"girl\",\"hundreds\",\"behavior\",\"economy\",\"dna\",\"complex\",\"access\",\"risk\",\"animal\",\"structure\",\"feet\",\"attention\",\"areas\",\"anyone\",\"deep\",\"watch\",\"short\",\"absolutely\",\"speak\",\"brought\",\"bottom\",\"die\",\"audience\",\"numbers\",\"stage\",\"realize\",\"images\",\"law\",\"wrote\",\"understanding\",\"knowledge\",\"literally\",\"books\",\"movement\",\"ground\",\"giving\",\"eat\",\"force\",\"seems\",\"alone\",\"telling\",\"hold\",\"starting\",\"nice\",\"sea\",\"forward\",\"developed\",\"kid\",\"individual\",\"millions\",\"support\",\"tools\",\"running\",\"miles\",\"online\",\"result\",\"act\",\"technologies\",\"medical\",\"north\",\"lab\",\"development\",\"blood\",\"fear\",\"nobody\",\"map\",\"personal\",\"issue\",\"voice\",\"material\",\"key\",\"12\",\"recently\",\"theory\",\"cut\",\"cars\",\"fast\",\"sun\",\"changing\",\"playing\",\"clear\",\"especially\",\"patient\",\"girls\",\"soon\",\"fly\",\"choice\",\"creating\",\"discovered\",\"talked\",\"relationship\",\"europe\",\"normal\",\"gives\",\"generation\",\"dark\",\"showed\",\"type\",\"industry\",\"seem\",\"chance\",\"asking\",\"rate\",\"fun\",\"hour\",\"issues\",\"color\",\"designed\",\"university\",\"class\",\"innovation\",\"several\",\"computers\",\"english\",\"tiny\",\"allow\",\"save\",\"focus\",\"solve\",\"developing\",\"digital\",\"film\",\"network\",\"special\",\"wall\",\"situation\",\"baby\",\"solution\",\"knows\",\"box\",\"reasons\",\"meet\",\"stand\",\"dead\",\"anybody\",\"haven\",\"begin\",\"impact\",\"term\",\"beyond\",\"pictures\",\"please\",\"produce\",\"ice\",\"shape\",\"non\",\"resources\",\"robot\",\"cool\",\"groups\",\"likely\",\"stay\",\"rights\",\"truth\",\"available\",\"major\",\"obviously\",\"cause\",\"evidence\",\"writing\",\"experiment\",\"drug\",\"modern\",\"becomes\",\"incredibly\",\"guess\",\"aren\",\"bigger\",\"drugs\",\"nine\",\"product\",\"lived\",\"involved\",\"google\",\"perfect\",\"month\",\"effect\",\"putting\",\"similar\",\"pick\",\"eye\",\"message\",\"web\",\"quality\",\"violence\",\"security\",\"evolution\",\"office\",\"solar\",\"general\",\"basic\",\"indeed\",\"towards\",\"drive\",\"present\",\"worth\",\"listen\",\"send\",\"revolution\",\"explain\",\"hundred\",\"died\",\"certainly\",\"ready\",\"teach\",\"25\",\"journey\",\"hit\",\"walking\",\"led\",\"approach\",\"international\",\"200\",\"scientific\",\"games\",\"communities\",\"chinese\",\"potential\",\"crazy\",\"60\",\"device\",\"camera\",\"source\",\"sex\",\"rules\",\"carbon\",\"sounds\",\"boy\",\"reach\",\"starts\",\"west\",\"examples\",\"3\",\"software\",\"measure\",\"particularly\",\"success\",\"totally\",\"suddenly\",\"action\",\"higher\",\"college\",\"code\",\"eventually\",\"democracy\",\"sit\",\"among\",\"minute\",\"largest\",\"hospital\",\"showing\",\"period\",\"notice\",\"mass\",\"develop\",\"dream\",\"onto\",\"plants\",\"add\",\"memory\",\"break\",\"everywhere\",\"11\",\"favorite\",\"zero\",\"response\",\"schools\",\"speed\",\"moved\",\"wants\",\"wait\",\"table\",\"individuals\",\"extremely\",\"movie\",\"anyway\",\"medicine\",\"trust\",\"follow\",\"biggest\",\"plant\",\"watching\",\"organization\",\"road\",\"creative\",\"worse\",\"choose\",\"500\",\"lead\",\"results\",\"exciting\",\"materials\",\"grew\",\"jobs\",\"plan\",\"positive\",\"east\",\"poverty\",\"fall\",\"strong\",\"safe\",\"essentially\",\"object\",\"door\",\"happiness\",\"son\",\"continue\",\"further\",\"vision\",\"doctor\",\"student\",\"objects\",\"named\",\"including\",\"role\",\"extraordinary\",\"standing\",\"skin\",\"conversation\",\"african\",\"leaders\",\"projects\",\"usually\",\"allowed\",\"models\",\"supposed\",\"interest\",\"faster\",\"police\",\"fight\",\"families\",\"tree\",\"connected\",\"screen\",\"cases\",\"5\",\"somewhere\",\"goal\",\"buildings\",\"shown\",\"finding\"],\"x1\":[10.64816835495748,0.5959299095833746,7.890502235421641,-10.6039762230863,4.552887312401066,4.723393909921424,8.760834208047115,2.739575762287932,5.690286553670055,10.195982488182397,10.670520975118475,11.687338263805792,11.57420842231609,5.256539249759968,3.8519622909092357,10.70021718408294,-6.304707801439058,-2.705556854300779,21.935588389964735,-11.423130738257356,5.087408317199447,-6.467045787043071,5.107583985492168,4.434696689313311,-10.471093294648597,-3.2866881854375802,0.04502284375511967,-4.234781800698926,-15.1427733726679,-2.8677734706022857,3.2578608663107955,-3.249734749343251,-2.1704236478763037,-15.348561728694264,14.475670174171938,5.876085121773915,21.924655744387568,12.967796080759594,1.5872829013639356,-6.34164143668931,5.637415854812066,0.274837612248608,8.547359664372863,14.87348771784654,4.914549048799673,2.3676196735819532,15.858326719349382,-5.610532704515848,4.568311603832258,3.645373215872074,-12.0447343313491,10.220454979935466,3.8990714413263756,-1.7442261033000586,9.564251758017061,4.661328644057608,-10.152841548534266,5.386827109242483,1.4626253550818384,-9.21649670751916,-0.6040210650860349,-9.11674621409294,12.055136811030673,21.940731210104303,-11.308678595370148,9.349250232021028,10.094459636223336,4.98234588233141,-9.52217854043905,0.47661476354606913,-11.525370465953422,-15.90679892474261,4.625547589015471,0.7464317800962484,-10.057384425283011,-5.933771771344706,9.321153929886929,-8.364350234176815,8.004753897761928,-9.759551954924463,20.214438964757857,2.8989256968359243,5.927493117634283,6.470724741688166,2.727768838014082,-10.732254179810703,-22.18374283196731,7.578915355236099,9.158011994580082,5.558090004530756,-9.77612536365397,-14.761998530506538,5.211044281000423,7.484519344277079,-2.76086139768333,-18.14105347023188,3.28610243015705,14.690924686319697,3.598358261345748,-6.935385962649662,15.857712103619765,6.464134783995836,6.121617669994239,-1.378801374957181,6.308887253797162,2.7412926221915415,-7.5672607760780854,5.861714527156349,1.8066963090407955,15.974311467086567,-3.5888418811093263,4.034990144782473,7.12076861921347,-5.002789889170623,2.557421540118255,-4.2297480573982815,14.50127459796524,-0.17276502282577158,-2.8380688972880317,-11.913805837077579,6.222697986060359,-16.505743533453654,7.449086656937549,7.569261181980237,7.601985941676634,2.8447915599218585,4.872612322257277,19.292361730552614,6.807045049067949,-11.915796638348922,0.31380732692340113,4.095022480984228,-10.826619783750852,4.051664270912318,14.537282227181834,5.589186292060214,-1.8600458349627293,-3.178065323894007,-14.560764098395422,-9.21631728176451,-20.287889465865508,-21.57420285975366,6.068152960526472,-17.037396755095013,-5.6072120655313755,-16.1878480166368,-4.502451585895469,-8.268716863845976,0.02374596708869079,1.1446155011219445,-4.522217039752972,5.150281134815038,2.2222449595770124,-12.466292286919757,2.7253405090971627,2.07606742780438,-17.489128269088557,20.26509820067035,-7.189520300186941,-13.311891568922807,-15.780455778580567,8.94232953321879,5.475782577860018,-1.8361570216085241,3.204339828225296,-0.42005386087376867,-0.24945172645203634,4.745398874371091,4.089666834904102,-14.109121271944938,-9.940169550729436,-0.7451710528095488,-17.239616500806747,-7.357395585197688,-1.7567734963717192,-10.100273973122604,2.092391119417198,2.0514228631296265,0.5152471046772595,0.805592678642704,7.171863148453978,-1.6886634777245817,-3.0785750408944406,4.161132789393062,-0.5645007667619821,-2.275225518857587,-1.938670413302289,4.345334633172507,10.311957351138378,12.876248002774895,-11.919591014273648,-13.48654152514807,-11.18538708022634,-19.38546889198672,5.424007395160892,-0.6943929611186478,-1.786995625818176,12.058589520794824,4.120237323352726,10.538120184079908,-11.336400579063659,-0.9923005996694232,-0.9350249106941799,7.093375790645713,14.04763641691531,-12.604136804930455,7.066311128632138,2.3407584644828368,8.41691904894237,15.574129782411504,-7.399148161536496,-2.995184035680206,-4.967525012927643,-5.6520953150402145,-10.051885592638579,20.20925234434505,18.343508482869968,10.069706442555495,5.8515441672928095,-5.2617614444058365,-8.168724417831159,5.926659041585232,-1.4067955995409192,7.4073743959095255,-14.10565077280296,-16.077497782997444,10.94155752923872,2.8524227562440077,-13.004359262094637,1.7146258170549888,4.566484325718726,13.019982088563514,-1.2899898766424243,3.3642041564213745,-10.190060596561155,15.034127041801458,4.328023238035124,-9.509749310400554,-9.44478583459981,-13.001377589686841,2.17277014959768,-5.186391316955289,-11.974157062564675,-7.213927566033454,5.722240259956106,0.7474545884322157,-7.695139052023488,5.927388808481598,-1.279558124896706,8.393434267432756,-1.9293158814876676,13.740275621877219,1.644896124825316,-7.791409985882374,-21.407184096309784,16.422188410896133,8.482895792101552,1.1306374706338902,12.990395776861249,11.166608660361202,-15.746129925379362,-17.516865689142076,8.484914790538035,6.345180976824186,-4.532788744998706,-6.158380732167641,14.35584020731908,-3.717009786425524,-3.9757010599597766,-12.901694807841672,15.386513503978955,-11.772577523460933,1.7420680564067983,2.2481144966254982,-2.139382912215908,-5.345354619472578,11.67387076499047,-7.220369051938162,-3.6138636084523266,16.17840841153757,-0.8246510920068519,14.532424944901642,-7.54105302758902,-10.054131849208774,5.9839114033414385,-5.361900979686503,15.615396410468545,12.291186876430306,-7.25479085931625,2.3178041641519456,3.926543333181582,-8.627639104680567,-12.273818165972532,-12.417339629775654,9.41577606850882,-7.151534139266695,5.862214928442771,9.524351084316484,-2.7134126410524617,-2.5204327868350034,12.534351459427805,9.417268107014728,-22.002677106409074,-8.2312592555026,17.795851551117224,5.441055866275166,-11.417940716531795,6.832159841948436,13.813717186177099,-0.5048290852901317,-6.666114243641634,-15.517515491672514,4.06771936098663,0.619641695056872,-17.49159059557366,-3.019973125532971,13.95962350202992,5.299673916809175,-0.6746668768526715,-7.824593946690148,-8.960324570395521,-4.349385073873334,-4.8189935595182405,3.847491683707887,11.94253001676158,13.56806161341113,1.280338573196376,-9.21104025102539,6.886980232258344,-8.872289858141542,-7.189339928790562,0.2700578306413175,-2.385119299901008,12.174094533988514,-21.444782461604973,-7.188279020841032,-10.704232617964907,19.29183956364133,13.532007742668426,11.521319493589102,-15.211660960669555,0.6130608684810335,-18.525832825216874,8.315941721005158,-8.76305468451086,1.558592388231952,-14.99458096786374,6.989242818470562,6.645206899275897,-8.986171984242135,5.511468579853835,5.946433111237311,4.551228380768765,10.404147430430879,-10.763434377968817,4.346994953492561,10.243639025648896,-3.1778694276786204,-6.589554333713969,5.874668280510111,-4.891520351523068,0.6005935292396746,3.163572553341854,-0.9471980620513903,3.422471945652781,-7.208924210487355,8.980706449541234,2.1899858714869787,-4.445680261010433,-1.9197140634251753,-4.972151557789913,17.861730615670123,-7.287716927303168,15.337782621627559,-8.102405092376948,-8.729701431489111,-0.6509520673427551,-13.009122710727976,-0.28486963796453424,11.786604760707593,9.156419341862826,-14.555910248683567,4.2693546966837115,-3.044643625999176,4.174825278918556,-2.260590071778775,-2.394572848367041,-4.91756080601023,-4.002092435934487,-9.337414678086198,14.623784173454645,15.55286985890734,1.4554433643846532,-21.557432298379435,7.387931935063714,6.634922277296456,-3.4702696203157224,-8.124663406056284,2.2290783080718897,1.1937390545768274,4.647481405691654,10.768436385461248,-20.911778198696883,-16.28041366710234,2.8357257216228935,-5.207134731959957,4.733867171209256,12.023827012847237,20.897160557971784,5.195675647826199,-13.143809015062853,-16.598422131297546,20.89566045464054,5.356728781017151,5.5360826436954556,13.067257170394312,2.089977541667837,4.1057434719368,1.9239149412810381,0.13952991649008606,-8.93095834729847,-3.401143189749927,-7.351902050733612,15.120944523291195,-15.468812764702918,1.8588313598346518,13.180904978069538,14.564688343781418,-7.296578610041548,4.128413690545225,0.4626555362570434,9.362997238241904,4.032988986699947,5.785602723322228,2.887646755184834,7.719904241475082,10.092812060140336,1.9007464056371148,12.636280455750153,-2.518659920007136,-13.84707725481901,-8.092292824660829,5.286353556774387,10.203082393884193,8.55526970449261,-5.549232465592062,-7.951210225487101,-14.117265168043222,-17.283389157420057,7.653679884505565,5.274810591735133,8.72769300392493,2.751391165478392,-6.65988801712874,-3.802999443694554,-6.196622548189742,1.1151235820843923,10.591688764116165,-1.152498900917597,-4.736252272448615,-8.89737091169199,-10.372603545067216,12.396735596006565,8.468465968903274,-12.083972500724139,13.281393693239238,12.172282085712592,1.5946041112052345,5.993798394059928,-2.8366272125701313,11.273659852801483,13.088251596335981,8.484692759306869,4.374616621151943,-2.3240892223315908,9.464574895031754,-5.202394200780881,-14.014139911006358,-5.257013001049983,9.549775959317559,-9.897571501875644,4.0080188234502,8.23600019015738,-1.882870298779646,12.902000324254763,9.33087595148943,-21.42671506338268,2.740668764732001,14.429486495289034,11.979749972286495,3.2924523295283055,20.344489172677033,-3.1860068188172495,2.7855550958881636,3.9042531188066176,10.270412404580052,-9.258646812336034,3.41198118118093,-4.082883632304993,-21.553110415906765,11.046952244838295,17.567522395293402,4.052359881982936,-4.3510353758953855,-0.2695161038887842,3.511844815237712,5.4670961334629595,9.622056715070398,0.5994776496351273,2.6810367288078645,6.893701820767389,8.567957691093799,7.091979531377733,-5.778458756207136,13.681596638015332,-13.337064941161671,3.6322572149410006,10.404296627387378,7.69558713688068,-17.6227173010652,-8.29318560319229,13.019985910394627,3.77577798608931,-1.3615734674599314,-5.140243019255916,1.0225132691560024,5.010185111336053,20.378138768375255,-7.983812800034289,8.543489480136454,1.522204229430571,4.877221804235341,6.751996403060046,15.497047896669315,-2.3783173394501977,6.681280022976454,-2.552553075015361,1.7783839555631582,5.186465686849415,-3.0370976160047167,-5.375473887857897,-12.73790087447355,10.728173743179275,5.486581911820304,5.120195531854528,9.33447312618438,5.103468804499825,2.7838418712144626,11.970199922770359,9.403672678990683,1.5793707880284356,11.019545209922539,7.810744661897774,9.205511659100523,13.467651030263529,2.376282584185947,-5.527298501206676,9.406025624959412,-2.349359275014944,12.797331194521727,12.218137230084835,-2.6992886456636573,4.159052291427772,-6.522232095018627,-4.24796191240365,1.7867583003786043,12.29066898680372,8.773853578131243,-6.45830436986676,-4.135621568373737,5.984104818291301,10.056466806830347,-1.2958589297116234,7.0007306229040305,1.356192737332732,13.062524589457905,-9.03915819564354,-7.227411104584926,-6.487124236304828,13.150348418511843,-8.898050550931382,2.74283142856435,-14.100176565085642,17.53814270812935,-5.817164043946533,10.605302786107783,15.422768954818464,-6.878725351539269,5.198826185028249,1.386104986038883,-3.641501459512468,-20.97017998546796,12.336249954814926,-7.460472269941758,10.023532151209233,-0.23971572449472484,-18.874529770691037,-0.8184294969495771,11.485902181678021,2.249803486873125,-9.843384585320234,0.6832909231632062,-16.102465449016968,7.632530820407661,9.736057105957258,14.812586273170265,14.267396339018317,14.53077213674446,-2.295371518585148,-7.213127595358738,-6.357788612817576,16.988568343291835,-2.4532038779836687,12.37195890433825,-21.462633373178154,-3.3882528687043822,-0.7768407583150945,-3.538635116951574,11.018170366330034,4.81993800731551,-8.818352097081206,16.9816614703883,7.4611210245072845,-4.222306887623349,16.797981755868125,-16.151641315230723,20.368131120895352,-6.632905916599998,-6.337879147540508,12.013380943112578,-0.587660290367332,0.38921828682245285,2.576189805098815,-14.397025073665233,2.3556043658660495,-2.7189742131984915,16.399765107500393,-0.862949395281482,13.388952784966857,7.0488815613883435,4.206149365949639,-7.310209486119451,3.392333409925679,-1.179272737928074,-7.649570016331649,5.078678344162007,4.866506861244987,13.751726559203894,2.189045819054453,15.390066265580893,4.305165914446155,0.031372320471566795,-17.358862825892114,-16.74248410857328,1.255918673000125,4.857449019715888,7.327465912445039,-5.2205081815852905,-1.9855821684905688,14.705370561611195,7.095083330438131,1.5231537833694058,-6.383425728461072,8.612930354065647,1.4511461484131736,-11.79161285618574,13.471139104693847,10.647618936210835,8.798209418034892,-21.80536348842905,-4.5482769167210515,10.27597082546145,-8.427338605015487,1.779094228460047,-13.284478121453235,-16.914595691374508,-0.8434324859787115,-13.503015631703429,-3.0760352115790703,15.352365371850318,-14.927676143062516,-1.2105443330647703,11.508332302071501,13.116970022281745,-10.235046671545353,11.947491460646777,-7.748594168124664,-6.081900888667194,1.1401972808601517,2.0028146932365565,1.1537718443496314,12.867243656004005,-4.219587406334703,14.42507912300336,-4.053611940272903,-15.472042908088401,3.770408234462393,6.223425689886027,-1.6708897924035941,-7.065728535638424,-15.136066062350375,0.7857373347649508,0.6961377772302533,15.40741359015505,5.26719935683507,-4.990172305213084,14.586834673219066,10.725897561465224,7.132796979084363,-11.645248589061636,7.343131763162879,-0.2949678654462953,-21.83416772755684,6.5345629485458545,-2.5847024848792377,-3.287874772686431,6.703140147487261,-9.248634888293726,2.408404090193884,5.867102981741373,-6.720509106566451,12.997367714694807,-2.172257515743997,-8.025795242770075,7.8982346061344995,-0.5294079435547644,-3.2281219452521586,9.354229906431897,8.806442333337028,0.10553764352887339,4.949822089864078,2.321360653167508,-0.9567117561435967,-14.412262877832648,8.422859569810559,4.87140512048492,15.595677457435727,2.3523135593694366,-3.054897537036717,0.8433208180362796,-4.127850580985646,14.23914975957557,13.151737453549194,4.734931152575234,-13.644863051373216,-1.9487432531886166,-4.288058094690172,-5.288935137582739,-5.719834549341482,-2.58697640056211,1.7758618738508725,0.5062181889525879,-8.784138092773212,1.5345870117740932,16.507229569891713,-6.303894511479912,9.223784471865562,-5.529738626544783,-3.1851966961140254,-0.9519586142885729,-7.429861922118085,13.307818053361185,-0.01771286863480015,-20.940758537139434,6.150610476221571,13.132688133508948,-1.3408679799391623,10.861651616650445,10.042085849974544,-6.226722648859795,4.751261896110572,8.248165487212999,-8.05979100725417,16.225885372831417,-15.932890573034744,-18.60475895204004,-13.429977017949279,-16.864917064341927,-6.059950561075072,6.337952638175107,8.636019850099908,7.158784262937498,2.6442768221823147,13.66416844457284,-3.120212168901778,14.205259266525692,-2.6852635061690844,5.272158300212985,12.859666970286812,-18.53435848410671,-13.377862803176681,-14.35330388636071,-0.12973020201609325,-8.40027733499413,20.693944429567935,-14.006193796341188,-3.465954825051153,0.343174713209142,9.336737697245287,12.37810136389769,4.035812433413356,-16.63818901783275,15.361902762721709,9.029745792207091,-4.257855059337634,5.670617886982375,7.592843923525044,1.5371189265596414,9.300423330980093,-1.2260219838076665,-13.807483629047624,-8.564672033013824,-1.671366877611826,-8.024488710066048,-6.591585198024888,-0.6649290707639928,-3.341663359020852,0.4184270878639703,1.5512829111884454,5.5654739705906575,-5.47268625161517,-6.277306519221574,11.114529907666231,-11.872643223695384,2.7541514224049495,20.864401764151747,-0.5389312338270114,8.309637327594169,4.826426092426891,5.519368648393701,-3.751613075526141,-6.26221257151748,7.121548311768873,-0.5191115102956331,-21.092188217795503,-3.3529434279622703,-3.1530007239902345,0.6068923474440919,-15.267342413944718,12.376224052197593,9.196973900293676,6.072710194627005,1.4427998630441718,-8.035709727849387,-8.143795026633232,1.947586624101211,11.179940092595535,13.506723537368973,-6.182424780428782,0.5920761613570432,-0.5434870485051531,3.1304856002542136,-14.765228658987132,-4.0612123323279885,-0.14930841881438936,-12.577078007069382,-16.27558382584804,-5.831892773269904,-15.985626587413321,4.09385485339216,-4.413820587369409,-2.8218400141176603,0.6043245832570165,-14.515431521453914,4.970137779575382,-0.9614992743405073,-12.512432685147603,-4.802239939410589,-2.404745436363561,5.880790044629197,-8.477320970934176,4.640672423393964,-5.812507038490909,7.273431567683112,8.622656099444304,-8.178098689406365,0.3170194866388394,1.2655839124732544,4.923002494682509,10.667382867874537,11.787671703422985,4.793427209835326,-3.2526723055525206,7.990664486316128,14.155477671423537,6.622998476174142,14.532814958223074,-15.094573944417657,10.900158605144638,2.077207125190135,11.926192991843653,4.151805556935236,7.245043777520456,-16.49532013872382,-4.160189611764455,-1.6692488211842602,0.6233566039208718,0.827244957452423,-2.4816236472245956,-1.0908177466198263,10.980503819066014,8.021302261277246,1.3730159450015522,-6.517150553009673,-13.784568704157708,-10.572120501072053,-20.89703656480934,-6.7153316964153245,11.155457977283046,-4.021080869012684,-5.083244142651725,-11.044681628139687,12.503003299520294,-16.559520877035943,-1.1333431085912091,5.0539822515876525,9.304343023748151,-15.499481279865343,-0.3079658057646229,-16.37126000241954,0.3990475190602155,4.468300971380121,8.98353758418408,12.939405221886911,-2.883040203129498,8.343671559692785,13.282563084225435,-3.2009756688194715,5.857723072880751,-12.634204940778313,13.430590239963722,10.065106128332983,-11.883533291131464,8.450892359378857,0.2384204556088162,-5.786729202961279,-11.096310871235046,-15.062414065091124,-6.597814076418681,11.680166136502269,-2.2555499491062982,-5.059700349137454,13.9482735276923,0.5915927565448809,0.12691638426117113,-14.276436450194463,4.243130323076262,-15.196491899753903,11.364650111617836,2.179482878342682,7.070096204577825,-1.0679677786827235,8.105522043677936,4.24704702282214,0.22361093466751936,2.3859103584811145,-8.040594501211048,-14.214246092858607,-0.45947930147385385,-0.9053856033860972,1.4117227215811317,9.46866896052634,12.325931916057474,-1.4385879574141929,13.104675403709763,-14.556294177518314,-1.5912338640348955,-1.1073634557197714,13.80379273151578,11.456233439374296,9.808972783202584,13.54931711273784,-10.540679209674224,-3.782759094927418,2.54385458927453,-1.2412478773993558,12.725836431940456,-1.0510121981558536,-9.27007085241096,7.966739156803534,9.011810798815322,-0.9950607161270939,-0.9618497015747525,7.727102723649624,-0.8698962631867051,-3.484721542844815,-1.2719000099401605,-8.351072183795047,-13.686739744216952,12.146583445312844,13.352670825213028,-1.0875786869067021,13.620208495049221,10.647904926806428,4.352895638081791,1.1777096763212345,-2.1494732245523287,8.678389971140183,-4.667264106386332,-3.8285631908978917],\"x2\":[-11.345792452108615,4.371438888439253,5.472525833603412,11.913424044667444,9.562831014046067,7.484611821120841,8.241620938612396,3.9647185920062387,7.753238810266921,9.14456661974563,18.16970647249326,-7.150118561512653,-7.045503511365001,8.484778855133117,7.031633996276765,18.21654955136136,-8.519623704459962,4.446595388364887,8.18847251666367,0.9516252050621747,8.12644970676131,23.28046824635775,3.1298653689600155,3.534175037272835,-10.235499552734638,5.013486551897436,7.243939706022841,4.271481363147743,7.702963032826872,11.319923495616019,1.9532858476080681,9.193832383793943,7.712176490332236,9.459164383754066,-1.98503886234852,11.095442639162881,8.134327439055523,21.020491215970665,8.358907229025048,5.67915615297563,1.205273554857494,-6.139537119981424,20.510260622145676,-0.6182540979465663,10.634467728095311,6.7421123909880425,22.108126241641898,6.296564076156464,-9.72411444590152,5.063029461049777,-3.212831153155139,4.280012594573059,0.10157840416991584,4.62529946233749,21.62668925371294,7.081384030900355,2.702980218253322,0.8405959598253183,-1.9911658099615106,-5.482571221045836,23.923243649866397,2.86850042790564,-1.611963524615541,8.192352395046571,3.780146080917176,8.966370555177091,20.858494524142383,8.361765060054195,-10.28300347474197,-6.267739596432005,-2.3334224517073814,2.538919613173641,20.62744604095111,2.672238278170843,-0.5730932635146997,20.31531350519395,21.31696807325727,6.076100206236951,-15.25697161741553,-5.509701672967225,13.896349090246098,7.522022250370597,2.276439816789536,19.792675416914683,6.040040455913737,-9.422526699832114,3.7166714334154514,21.947614067931074,19.123488644403167,-5.259448315982687,-10.218253236659576,1.5820202372498917,-4.351933606730999,-6.775572451290832,-4.112968747211225,7.335466259363894,-3.157611852261766,-0.7564652657754515,-6.900448280369072,23.98913875983141,22.106582896041317,10.288955609295286,-19.79156513911189,9.727525003660405,-2.074487470474895,7.461891889800227,-1.512365778361614,13.491983587733388,19.79263663288128,6.039429794013945,-8.642057746288396,0.8287681109133226,0.6471536400335474,9.070710828249634,-6.54728929692238,5.920559173705717,-2.0049511514641436,15.875536936880774,6.063049153885684,10.547671845391344,-17.2103777661702,3.1637187360261825,-6.758514420101392,-9.246090918377323,-15.215963646191588,20.95919838480091,-3.4985961606683524,-0.07708911231448785,1.2814216167831483,18.740349557657215,11.103617772461998,0.5682945640581581,-9.48523814814169,-4.318130808981515,-1.351073280051488,2.0954513782446407,9.994507115974951,13.371287803396823,1.2671068876140696,-10.561032588063808,0.877576611745354,2.0508712077874915,-19.87993138671143,7.923523299070187,1.5649938751301569,1.769205366133769,2.1200292191129946,21.784051330705108,-6.002962916946289,-21.218737010250493,-0.9355259169822197,-11.86877298066589,-4.027963677661632,10.337299164092828,9.35080621925298,14.124752916552445,5.509135568699282,13.730915936056872,10.280085105651336,9.384538864245881,10.99846536342882,-8.533628355775186,10.301058570778029,16.95678303859737,8.734200801273607,-9.88542013413809,13.716484084584748,-10.545880216608722,13.489839682301561,15.9605900349234,-9.022530913041066,23.241297040259592,3.514574758649599,-6.422473006254616,-5.873852166390158,-9.158117452672188,11.409095190024715,-21.591897988701106,2.779645476956608,-1.7930474806859997,8.814978093425896,5.962974942337448,16.814000538228555,0.4315787941311943,-9.708688489915557,16.591707926293388,12.053154017614737,15.583070641136363,4.270508468614063,-6.130430816221271,18.77540100402199,6.682609012027049,4.638229332700722,-10.694128892980896,-12.562351404875134,16.96728836942283,-5.852022331527072,10.755354030859932,-18.42071989798433,10.243233190911221,13.299695755747079,-0.7703849092716079,19.485253162320163,16.61761072400783,20.305033337296777,-3.709895180167411,-12.586280089158926,-5.44467438370977,17.13454886056293,11.25964693182004,-1.3328920132290354,21.065025495742244,6.091996483334596,-4.45224187833183,7.35405320437545,13.891829858954017,7.859978955708553,11.341914277543617,-21.706875193383066,-3.471321721330396,6.6405731845465095,-20.102894135382975,11.312930708028514,-7.750279459009702,15.967126628040962,9.180592144920233,0.4468102267201502,20.96296526504375,1.7098540620735747,-4.881179217469103,5.377284609007692,20.115783964251783,6.8526350255132185,-3.022461054903181,-9.078007138939034,2.7443800589577543,0.2976927675802382,2.9803534299753776,4.753015434688616,7.413412067960006,-21.55672418678298,0.884938370942648,7.867659858687341,24.41114407674878,-20.617975504111676,-11.811743810738387,2.420238492587778,10.968135136613387,-1.475039303166906,17.146887102690826,20.534575773413355,-7.336542426848518,17.384825675238393,-3.2971735272213714,6.980100252902631,14.415507966706704,15.118571100165989,-17.96376893843341,20.03568301130603,2.3644958388247552,6.591067414529959,7.2750142082079465,3.107586342543911,16.10828387170873,-0.4848338862548406,11.971477223645621,6.826270973972966,0.8849424662768484,18.99435445439023,-3.9945839178873244,1.2116032639409218,-2.7237782884956174,-11.184047243505308,2.4373038306343995,13.759598654378525,-4.0432071123707765,-8.908094340844965,16.37813395271949,6.070387180982538,9.811117167086753,23.870603638384196,12.57448473614206,2.2464323909952437,-0.5732822164805668,14.549318907262979,14.250180958941707,12.545504581940252,10.338961988400117,0.391191323640232,10.784352377344828,-20.28678877719051,0.8227169946582152,-3.3780911551427217,5.4317300943705735,-3.882038728781156,24.283739993252105,21.16676942777702,26.954185141958643,11.489019439528654,0.9582538124666892,1.990341463705089,15.917957687919584,5.145946372618401,6.356459459967604,10.187474541971717,-21.91890656625964,3.585070512356741,1.1521464267620702,5.9173675711356255,4.084571878715426,-3.1332790729614617,7.805384671748683,-5.210053415366707,3.384853199453539,7.250717153180045,2.900158863382719,20.266583536688255,-12.278291050528805,15.275936347373436,0.3657853238025873,-3.217156560144515,7.798258242671621,-6.165648499488126,-6.894193559683178,3.6995552428449687,5.862999297814149,10.626724324741403,17.57797307874101,22.725735987351726,24.914800418511444,10.368342329426723,6.244158562079041,6.458745098191764,-1.3881811879704191,3.7108438500015026,24.351127748204245,9.094156083910216,-0.07656748004090633,-7.772719280925193,-8.816848648025513,2.1756380433715625,-12.754079184008711,-3.17617248862754,12.208391593004038,8.52322795923937,-12.425458889029835,9.249001045904858,15.45136892334852,3.690435381521674,26.183500375791567,-20.504922348088478,-1.9149607770206167,18.009967659360935,5.998957783675325,2.9300138398725317,11.914577866966596,11.263170002826651,8.453439179485446,7.160923907863827,25.657456738249323,18.225634632797476,7.007034148177769,-6.132474896499179,5.739762758168857,3.835331889298776,-1.7241587159578131,9.679635164765596,-21.542803891953586,10.861609883869884,8.871651347498172,17.93503660021713,10.207202147150232,17.297591850819416,8.028493737887024,25.800949929269116,17.050655830713154,9.148664869150686,-0.24655438485082273,6.607635930457501,7.108022646935594,6.978415346631896,5.221963945887788,-5.305645235931945,20.535168963410996,-5.591089659361478,18.814082967252773,7.991963350874365,12.930732408581333,10.931722293625468,14.397123193909342,2.2949428310164977,1.1338016564969065,1.9908266041916807,3.687345400791106,23.337198997032147,5.806815936084113,12.536228044650016,15.897134152260705,10.553527340744447,-13.451146915687477,-10.924101456760695,13.879422012167936,8.051797173727516,2.899429360818391,18.443060553797494,-6.324389494160733,-10.694062185952976,8.9741197269262,12.064163282913983,-22.420981915936938,10.3289206605028,10.90168452028826,12.065770848341183,18.31490313125853,-21.879525794162817,23.955527885789078,-11.855825924934775,18.967525161671897,4.259347139323234,14.557171132846943,26.16334035730612,-2.4202412653396532,14.1167356675863,1.36848392421785,2.1301972116740404,9.488819046712457,18.878269094300624,8.154568679768383,-6.632861017012967,-18.416076111567076,19.007326748682175,14.4804922175868,-5.431085367945581,13.804659527949598,-13.14114606298708,7.793163615711279,10.71367671652029,15.08605445781739,5.310301998051052,7.082435965566738,5.847700529036076,25.796739342650458,-22.14503633270429,26.52824292191886,10.535298870147091,-6.27595669972578,11.777973157531088,2.819206841813187,-1.0983285141427948,-8.133503594736338,17.586555161655077,6.580040982843551,24.396801927979773,3.805825621604003,0.8539973033003169,-8.523794399922433,7.392180873778554,22.950701621462457,6.044852744857143,15.883891869114265,17.317686359884775,13.228735462784092,23.355952520155853,3.1090391266147828,5.924275371000245,14.721881936696585,9.673550221334965,-12.309754678618683,15.772082429802744,21.5150176354214,-8.218072777717454,1.5954061666979307,-1.6643405602911046,17.976926754304706,-7.624781458233334,21.915128408704824,3.3585253825410284,8.741341705604926,14.17077970060182,22.04917489061693,-8.802344315383705,13.779647598073463,23.072300963343743,23.15565373486373,19.43478836439056,5.654036366043161,3.7390453041950873,24.39220130769305,4.9499880163513374,3.7335798350632903,8.67542823935215,13.48401169020856,-2.0774867738043623,14.97677990086218,-5.121497860185597,23.912370872114312,12.935764603303399,15.721882966699615,-3.921491874452437,3.7906344454417957,23.93537878361567,5.564556005222586,-22.343277943307584,6.348508217711112,-10.072815158726234,10.704626228869255,2.0241728207433334,22.670955824177895,3.0658024430135535,-9.039570057622326,7.098342287456467,10.762869184933127,-16.643040402101764,15.214005942362203,15.645936110105971,13.314396280745898,-23.440873189476992,7.122305015393001,-15.459625016629907,5.3314069783977756,8.7478139521169,24.761863912962234,11.718268553321291,9.05276763755768,10.196605918809276,14.272436875693037,4.900587450397094,13.393856715742844,-3.3033227134484147,12.059942290113922,-12.187578382377815,-11.322784559718405,24.21564114518361,10.766267450430648,15.332068115169216,3.748891065821199,-3.555260652624027,13.03016164583315,-20.808559568434063,-0.6487893483442787,-4.388155881745146,5.302672492472584,13.677687727395249,-21.438873330057117,-1.257681327694636,26.527401488945262,3.08372769163191,5.389755931433131,14.796606780357987,-3.8478375814328385,-12.172812615868413,-8.812741586071107,25.705100201630415,8.19822485161033,11.20346408035508,15.30750742262163,3.119330979563403,-3.8608089062001985,-7.426290649304453,14.710464891337875,5.81765467942419,1.1534114731460277,18.705247621450113,18.57097219064752,15.637760723941936,-10.418000306931116,5.795040021751949,-8.426607646443863,7.2423656225630975,14.143919338045015,-7.802566506634799,11.461806539853445,7.891547863235357,-7.985410240887836,0.036918550765349514,1.5836777510253297,16.309492072586604,-5.77767727741656,15.190907346402694,19.028592020187045,11.14086024118132,17.035319684367867,2.5178912451176894,5.597293952511112,17.039275142923273,26.070919655035116,9.841999424603856,17.417287143545188,-20.85359686109706,11.394414045945208,-6.233712687897162,1.8699283999239396,11.893235615025336,-6.644560259405807,23.336972242466317,10.730609131197898,6.288862368594517,21.99341469861222,7.678401750934047,9.3871748143122,-8.663316326025212,11.623760673175878,5.5358987174353205,-8.121694420439956,1.9944029736775881,11.131208120749637,11.132744197250958,11.808828994259738,17.78349175168478,15.956618532127777,9.153006229663108,6.79398720698741,-3.739408265338165,13.47519457481922,3.6800374936646487,-5.338571488722912,18.095204681552588,-3.667009424418964,8.664357712148679,-1.6955663956869387,15.797575992148778,6.79500881599735,9.942686886519562,9.65937787793103,6.871761557020182,4.538498195424619,13.426300303815774,17.933921537922046,7.235315751822347,20.961273962946002,1.668373811419085,18.671688397686637,13.095603875151507,10.477594289265717,-13.05368803821814,16.248209202999238,14.416912095295645,-3.6973157823359206,1.2483056443263358,14.827926002353985,-22.373199426151146,2.8424259688506726,5.081374877092209,3.5364863604324914,18.249879710074737,-22.051883731919023,16.8504470331776,7.332819592813578,10.322171304885025,9.773215352233898,-23.67265900001644,16.703154404801868,-1.0374807854158998,4.371253431474212,12.930614817191199,17.386750553857947,26.25887739181066,-5.237844373453589,12.875637511573464,1.28127318178838,-16.61634761452607,15.68870382383198,17.906110896181847,13.778620943963473,12.059431674075315,8.597009630374473,15.351774812299844,12.516761158932809,14.336193992835609,6.609877714183828,20.125417601877288,26.317978951755673,25.973026833203388,7.135833493846386,4.408640876720554,-6.061816073053754,7.008355490051094,7.857390677341167,-3.009019832928347,8.10957663690872,4.24825808754419,12.559505470039621,24.592882561360653,6.99905831166026,2.9351146749874313,24.568259112518035,13.807623686205131,-5.839794251744998,15.318057123979337,16.52847941022724,5.275082128753739,23.7846328099703,15.851704595839072,8.981395958045553,0.36899949466112725,4.621302200205113,14.056030076888904,6.0102371778793895,5.343095174586762,0.880127175648485,5.04912805060388,0.0008532591654594884,9.305669395961173,9.733022974250561,2.239025512346413,-2.6459001220103353,1.415478226922675,12.572320868642908,-16.603868975236903,8.378145909911623,23.950858606626657,1.2029757008036905,6.540015788222791,12.329480213210914,11.71756997971148,14.024885982492652,24.01689577329286,16.23298182317386,-13.072712491072705,17.958724493853794,16.497849992476787,9.950178983201898,13.254977109358158,25.720530187596964,14.079024357289738,13.58419804043177,16.406902815132725,6.151922518963208,14.075787105214422,12.701897716194821,-21.206946914061252,-8.575121380556803,14.600539389285267,4.10135446919168,24.621238445165584,-1.6227712721614744,9.666581454600081,12.967821995971066,2.718689784443268,9.676822771234903,9.212102930144008,2.7900746337922184,20.06225397743814,-1.8066587583436093,3.5775986868560414,14.981866844787737,7.60156274137091,-4.347394747921291,-6.188931611168288,15.231659531349047,-12.293978581725211,8.070488627312841,-3.2308680097106635,18.31284784116611,8.370452990798004,-4.842876665745366,13.314599640985403,16.641952619099772,6.867045890608632,17.890538447468032,0.921842733912135,14.914795217261146,8.537207417317262,2.474171634681769,25.67279672362257,9.385434122112152,-1.3730950765041388,0.6760179672866213,0.7873908671883626,15.845532861022608,-20.19705591575765,23.94184552522752,12.121307961004705,6.73449524164475,6.847772765132607,5.883064623841628,13.140612862418052,8.835094682325368,10.811149019990783,13.26102764851537,8.553527139024949,14.438432243024781,11.014367528299392,7.724688062420266,15.068165790986377,1.9425563340335006,16.042057775297046,-7.529174250435506,8.18129995830401,-3.1803854824332687,5.730474665603481,3.3639948286192305,4.432918473400486,25.94553444943924,12.532922169065337,6.522274043085046,17.810735103661468,17.39633942153372,2.520917300365153,24.55490335456278,-4.685460507427951,7.150904781013232,9.913822150285407,14.264970125246801,12.16843609355596,23.882424267335328,10.805789632322211,9.51723101371649,25.594217122930946,9.607890934628909,4.399699749376167,14.63430480789814,13.576195245551045,8.940390082841477,13.061413415768127,8.106320954990421,12.8911418422015,15.744585078130566,5.496184177065215,16.747278569450934,16.750083005633858,13.500729608622434,-8.028004137519364,-2.877055890255614,-5.257627415627844,12.145989709477675,23.154268215480187,25.005413958940974,-20.96010466023351,14.99484886736655,-4.983930698861004,9.18627995097931,12.57187332901118,8.324366040172375,2.0741384061069112,17.612456029379334,0.7093000017381017,11.220330103176718,4.578934973642139,9.152146291530762,6.3794662234588015,13.611461992695634,17.004258144449782,14.599997701186249,16.032341057039076,15.004610665497262,2.2398070672658985,12.31200246224275,13.727082971946546,12.613402420811108,6.525944779983032,2.8352217560720874,4.4717920842297385,8.004463977093655,7.44420513497694,5.372362289721135,3.566700773227361,15.42714766308773,8.695836067518174,-20.822034610189544,-4.496260976170773,6.375393681295439,-0.1883974560608401,8.548147184562252,-22.04806380365168,16.001184143249734,2.741900840354322,1.594507711581388,-0.8862134849414507,15.920876334802484,15.967726167449415,-21.861773480846388,14.005122524178052,11.414751593870808,26.01697209030836,13.040615223624313,16.84477503161416,8.75217687590962,-22.111528390986358,13.164694785084798,8.129682264638564,14.53463837872908,9.4844536065543,23.697712582736575,12.334853027584147,6.851132412913659,1.2833895839428158,3.7196424903703154,-8.224067193067851,-12.3534164717562,25.071565603834898,-22.397021115140323,13.486966808478622,10.586698768167382,8.955741724738264,14.675677209517994,5.499664308736588,4.781152500138302,14.476270664256388,23.038094294422695,0.8244278947979784,13.524684673733024,3.2341912987027808,15.766962704188007,3.8102834602183235,13.653529193411824,2.074070081405099,12.416853417786177,2.0140969041456795,2.8412892675011245,12.126196699521374,3.2237258831015785,12.720131021134497,7.315223902584253,15.701991079088259,2.774551564912637,24.25563289649631,5.162967646257944,14.771625618967725,2.3818758805858113,5.109926970966025,-21.17056750583077,5.143539205439218,12.835044092483466,14.892360684201725,26.091982360219774,14.155211609918899,-2.8436475008987516,-7.743569367532837,4.0216973401646605,7.123969858345462,23.585904722133726,-2.895225799721091,7.685605188513208,5.71609750692741,14.47815900078688,8.086366436807054,5.33533028959938,12.659214701779268,12.712838896276,2.845850626542593,16.73843473767629,8.324979277769188,12.321745672891963,22.99792853424192,6.233041491273418,-22.079849445049042,6.735431572607331,24.625684671443487,10.516346164271944,24.14242452487366,-3.7445321245744125,25.56549300076402,16.898868713826037,11.652265733098675,-13.000768938918865,14.760772309269354,4.131352819849915,10.806936998978347,8.064940347605516,6.343901529999877,12.089463110957093,4.4361287824868985,14.27694070609996,1.6488181215548101,6.8988969895610115,23.382133388173276,15.068180544356556,2.2506676980735643,0.9838359048519959,24.358782720499054,0.26420607993033923,13.637911633100853,15.500305979434057,11.424867556194016,1.6854605639460924,9.59883852844933,15.671251691830253,12.959219862411008,26.040010295478357,25.231281513077228,8.6136354922302,-0.3729102434737164,24.16476251155786,1.1482860859769022,14.61334484231442,23.113723946263192,13.019805293979799,6.32265565548894,20.81990988799275,8.293827733540889,-0.7610041978759415,7.839671266936554,25.306720410116615,-22.226698204643455,4.30428891588406,15.959675554863402,24.95405321437775,-2.3748893701710694,7.691863714886169]}},\"id\":\"c61eb617-65b6-4f0d-ad09-3872db850fa8\",\"type\":\"ColumnDataSource\"},{\"attributes\":{},\"id\":\"10bc5682-24e5-494a-a1fb-61b01de26c5d\",\"type\":\"BasicTicker\"},{\"attributes\":{\"fill_alpha\":{\"value\":0.1},\"fill_color\":{\"value\":\"#1f77b4\"},\"line_alpha\":{\"value\":0.1},\"line_color\":{\"value\":\"#1f77b4\"},\"size\":{\"units\":\"screen\",\"value\":8},\"x\":{\"field\":\"x1\"},\"y\":{\"field\":\"x2\"}},\"id\":\"88324f10-95ad-4118-b270-161e72271c53\",\"type\":\"Circle\"},{\"attributes\":{\"below\":[{\"id\":\"0c00d918-8b38-4465-9927-f347329192a3\",\"type\":\"LinearAxis\"}],\"left\":[{\"id\":\"efc40fc4-60d9-49ed-926f-8e58345c207c\",\"type\":\"LinearAxis\"}],\"renderers\":[{\"id\":\"0c00d918-8b38-4465-9927-f347329192a3\",\"type\":\"LinearAxis\"},{\"id\":\"6a236f0b-716c-4f01-9f96-e797e7a0d9eb\",\"type\":\"Grid\"},{\"id\":\"efc40fc4-60d9-49ed-926f-8e58345c207c\",\"type\":\"LinearAxis\"},{\"id\":\"32ca01d6-1671-40e0-a316-0cad8d6b1b67\",\"type\":\"Grid\"},{\"id\":\"b44ac14b-4864-420f-985b-d9057ff6259a\",\"type\":\"GlyphRenderer\"},{\"id\":\"6793b2ee-2fcd-427c-84e0-2d88166be5db\",\"type\":\"LabelSet\"}],\"title\":{\"id\":\"b4f33a2b-2203-468b-92f8-69f85d71d606\",\"type\":\"Title\"},\"tool_events\":{\"id\":\"5013eca8-2629-4f50-b842-d53cdf6dd80e\",\"type\":\"ToolEvents\"},\"toolbar\":{\"id\":\"71f9a0c4-dca5-495f-8afd-95b489cefce7\",\"type\":\"Toolbar\"},\"toolbar_location\":\"above\",\"x_range\":{\"id\":\"e6e2040f-69c3-4c09-a7f3-4b20da39c0c0\",\"type\":\"DataRange1d\"},\"y_range\":{\"id\":\"1569ebe0-f2a4-4dae-bccb-1101d2d358f0\",\"type\":\"DataRange1d\"}},\"id\":\"1ce692a3-122b-427f-8484-ff91112cef3b\",\"subtype\":\"Figure\",\"type\":\"Plot\"},{\"attributes\":{\"fill_color\":{\"value\":\"#1f77b4\"},\"line_color\":{\"value\":\"#1f77b4\"},\"size\":{\"units\":\"screen\",\"value\":8},\"x\":{\"field\":\"x1\"},\"y\":{\"field\":\"x2\"}},\"id\":\"ce834c5b-89be-4a44-a999-8b6b75877033\",\"type\":\"Circle\"},{\"attributes\":{\"plot\":{\"id\":\"1ce692a3-122b-427f-8484-ff91112cef3b\",\"subtype\":\"Figure\",\"type\":\"Plot\"}},\"id\":\"0ca1453d-382d-43a6-b8bd-e18e6d266f7d\",\"type\":\"PanTool\"},{\"attributes\":{\"formatter\":{\"id\":\"f5da5714-7c77-4971-8e12-280ac0fe2b9e\",\"type\":\"BasicTickFormatter\"},\"plot\":{\"id\":\"1ce692a3-122b-427f-8484-ff91112cef3b\",\"subtype\":\"Figure\",\"type\":\"Plot\"},\"ticker\":{\"id\":\"10bc5682-24e5-494a-a1fb-61b01de26c5d\",\"type\":\"BasicTicker\"}},\"id\":\"0c00d918-8b38-4465-9927-f347329192a3\",\"type\":\"LinearAxis\"},{\"attributes\":{\"callback\":null},\"id\":\"1569ebe0-f2a4-4dae-bccb-1101d2d358f0\",\"type\":\"DataRange1d\"},{\"attributes\":{\"dimension\":1,\"plot\":{\"id\":\"1ce692a3-122b-427f-8484-ff91112cef3b\",\"subtype\":\"Figure\",\"type\":\"Plot\"},\"ticker\":{\"id\":\"e9158eed-39a6-4879-93c6-234b4dd946a2\",\"type\":\"BasicTicker\"}},\"id\":\"32ca01d6-1671-40e0-a316-0cad8d6b1b67\",\"type\":\"Grid\"},{\"attributes\":{},\"id\":\"c85fcbdf-6682-4624-af69-2ec02177c201\",\"type\":\"BasicTickFormatter\"},{\"attributes\":{\"plot\":{\"id\":\"1ce692a3-122b-427f-8484-ff91112cef3b\",\"subtype\":\"Figure\",\"type\":\"Plot\"},\"ticker\":{\"id\":\"10bc5682-24e5-494a-a1fb-61b01de26c5d\",\"type\":\"BasicTicker\"}},\"id\":\"6a236f0b-716c-4f01-9f96-e797e7a0d9eb\",\"type\":\"Grid\"},{\"attributes\":{},\"id\":\"f5da5714-7c77-4971-8e12-280ac0fe2b9e\",\"type\":\"BasicTickFormatter\"},{\"attributes\":{\"plot\":null,\"text\":\"word2vec T-SNE for most common words\"},\"id\":\"b4f33a2b-2203-468b-92f8-69f85d71d606\",\"type\":\"Title\"},{\"attributes\":{},\"id\":\"e9158eed-39a6-4879-93c6-234b4dd946a2\",\"type\":\"BasicTicker\"},{\"attributes\":{\"data_source\":{\"id\":\"c61eb617-65b6-4f0d-ad09-3872db850fa8\",\"type\":\"ColumnDataSource\"},\"glyph\":{\"id\":\"ce834c5b-89be-4a44-a999-8b6b75877033\",\"type\":\"Circle\"},\"hover_glyph\":null,\"nonselection_glyph\":{\"id\":\"88324f10-95ad-4118-b270-161e72271c53\",\"type\":\"Circle\"},\"selection_glyph\":null},\"id\":\"b44ac14b-4864-420f-985b-d9057ff6259a\",\"type\":\"GlyphRenderer\"},{\"attributes\":{\"active_drag\":\"auto\",\"active_scroll\":\"auto\",\"active_tap\":\"auto\",\"tools\":[{\"id\":\"0ca1453d-382d-43a6-b8bd-e18e6d266f7d\",\"type\":\"PanTool\"},{\"id\":\"def610f7-99b1-4962-933c-18588e97b52b\",\"type\":\"WheelZoomTool\"},{\"id\":\"dd6ec96e-1271-4978-abd3-857e83d07ccb\",\"type\":\"ResetTool\"},{\"id\":\"b4930df7-7b11-4718-8b65-a4d4ae4ad63f\",\"type\":\"SaveTool\"}]},\"id\":\"71f9a0c4-dca5-495f-8afd-95b489cefce7\",\"type\":\"Toolbar\"},{\"attributes\":{\"plot\":{\"id\":\"1ce692a3-122b-427f-8484-ff91112cef3b\",\"subtype\":\"Figure\",\"type\":\"Plot\"}},\"id\":\"b4930df7-7b11-4718-8b65-a4d4ae4ad63f\",\"type\":\"SaveTool\"},{\"attributes\":{\"plot\":{\"id\":\"1ce692a3-122b-427f-8484-ff91112cef3b\",\"subtype\":\"Figure\",\"type\":\"Plot\"}},\"id\":\"def610f7-99b1-4962-933c-18588e97b52b\",\"type\":\"WheelZoomTool\"},{\"attributes\":{\"plot\":{\"id\":\"1ce692a3-122b-427f-8484-ff91112cef3b\",\"subtype\":\"Figure\",\"type\":\"Plot\"},\"source\":{\"id\":\"c61eb617-65b6-4f0d-ad09-3872db850fa8\",\"type\":\"ColumnDataSource\"},\"text\":{\"field\":\"names\"},\"text_align\":\"center\",\"text_color\":{\"value\":\"#555555\"},\"text_font_size\":{\"value\":\"8pt\"},\"x\":{\"field\":\"x1\"},\"y\":{\"field\":\"x2\"},\"y_offset\":{\"value\":6}},\"id\":\"6793b2ee-2fcd-427c-84e0-2d88166be5db\",\"type\":\"LabelSet\"},{\"attributes\":{\"callback\":null},\"id\":\"e6e2040f-69c3-4c09-a7f3-4b20da39c0c0\",\"type\":\"DataRange1d\"},{\"attributes\":{\"plot\":{\"id\":\"1ce692a3-122b-427f-8484-ff91112cef3b\",\"subtype\":\"Figure\",\"type\":\"Plot\"}},\"id\":\"dd6ec96e-1271-4978-abd3-857e83d07ccb\",\"type\":\"ResetTool\"},{\"attributes\":{},\"id\":\"5013eca8-2629-4f50-b842-d53cdf6dd80e\",\"type\":\"ToolEvents\"},{\"attributes\":{\"formatter\":{\"id\":\"c85fcbdf-6682-4624-af69-2ec02177c201\",\"type\":\"BasicTickFormatter\"},\"plot\":{\"id\":\"1ce692a3-122b-427f-8484-ff91112cef3b\",\"subtype\":\"Figure\",\"type\":\"Plot\"},\"ticker\":{\"id\":\"e9158eed-39a6-4879-93c6-234b4dd946a2\",\"type\":\"BasicTicker\"}},\"id\":\"efc40fc4-60d9-49ed-926f-8e58345c207c\",\"type\":\"LinearAxis\"}],\"root_ids\":[\"1ce692a3-122b-427f-8484-ff91112cef3b\"]},\"title\":\"Bokeh Application\",\"version\":\"0.12.2\"}};\n",
       "            var render_items = [{\"docid\":\"7fd0beb5-c063-4a90-9fd9-1956d6d33f9e\",\"elementid\":\"c2348353-18f2-4f8d-a8cf-13b59869e26e\",\"modelid\":\"1ce692a3-122b-427f-8484-ff91112cef3b\"}];\n",
       "            \n",
       "            Bokeh.embed.embed_items(docs_json, render_items);\n",
       "        });\n",
       "      },\n",
       "      function(Bokeh) {\n",
       "      }\n",
       "    ];\n",
       "  \n",
       "    function run_inline_js() {\n",
       "      \n",
       "      if ((window.Bokeh !== undefined) || (force === \"1\")) {\n",
       "        for (var i = 0; i < inline_js.length; i++) {\n",
       "          inline_js[i](window.Bokeh);\n",
       "        }if (force === \"1\") {\n",
       "          display_loaded();\n",
       "        }} else if (Date.now() < window._bokeh_timeout) {\n",
       "        setTimeout(run_inline_js, 100);\n",
       "      } else if (!window._bokeh_failed_load) {\n",
       "        console.log(\"Bokeh: BokehJS failed to load within specified timeout.\");\n",
       "        window._bokeh_failed_load = true;\n",
       "      } else if (!force) {\n",
       "        var cell = $(\"#c2348353-18f2-4f8d-a8cf-13b59869e26e\").parents('.cell').data().cell;\n",
       "        cell.output_area.append_execute_result(NB_LOAD_WARNING)\n",
       "      }\n",
       "  \n",
       "    }\n",
       "  \n",
       "    if (window._bokeh_is_loading === 0) {\n",
       "      console.log(\"Bokeh: BokehJS loaded, going straight to plotting\");\n",
       "      run_inline_js();\n",
       "    } else {\n",
       "      load_libs(js_urls, function() {\n",
       "        console.log(\"Bokeh: BokehJS plotting callback run at\", now());\n",
       "        run_inline_js();\n",
       "      });\n",
       "    }\n",
       "  }(this));\n",
       "</script>"
      ]
     },
     "metadata": {},
     "output_type": "display_data"
    }
   ],
   "source": [
    "p = figure(tools=\"pan,wheel_zoom,reset,save\",\n",
    "           toolbar_location=\"above\",\n",
    "           title=\"word2vec T-SNE for most common words\")\n",
    "\n",
    "source = ColumnDataSource(data=dict(x1=words_top_ted_tsne[:,0],\n",
    "                                    x2=words_top_ted_tsne[:,1],\n",
    "                                    names=words_top_ted))\n",
    "\n",
    "p.scatter(x=\"x1\", y=\"x2\", size=8, source=source)\n",
    "\n",
    "labels = LabelSet(x=\"x1\", y=\"x2\", text=\"names\", y_offset=6,\n",
    "                  text_font_size=\"8pt\", text_color=\"#555555\",\n",
    "                  source=source, text_align='center')\n",
    "p.add_layout(labels)\n",
    "\n",
    "show(p)"
   ]
  },
  {
   "cell_type": "markdown",
   "metadata": {},
   "source": [
    "### Part 5: Wiki Learnt Representations"
   ]
  },
  {
   "cell_type": "markdown",
   "metadata": {},
   "source": [
    "Download dataset"
   ]
  },
  {
   "cell_type": "code",
   "execution_count": 40,
   "metadata": {
    "collapsed": true
   },
   "outputs": [],
   "source": [
    "if not os.path.isfile('wikitext-103-raw-v1.zip'):\n",
    "    urllib.request.urlretrieve(\"https://s3.amazonaws.com/research.metamind.io/wikitext/wikitext-103-raw-v1.zip\", filename=\"wikitext-103-raw-v1.zip\")"
   ]
  },
  {
   "cell_type": "code",
   "execution_count": 41,
   "metadata": {
    "collapsed": false
   },
   "outputs": [],
   "source": [
    "with zipfile.ZipFile('wikitext-103-raw-v1.zip', 'r') as z:\n",
    "    input_text = str(z.open('wikitext-103-raw/wiki.train.raw', 'r').read(), encoding='utf-8') # Thanks Robert Bastian"
   ]
  },
  {
   "cell_type": "markdown",
   "metadata": {},
   "source": [
    "Preprocess sentences (note that it's important to remove small sentences for performance)"
   ]
  },
  {
   "cell_type": "code",
   "execution_count": 42,
   "metadata": {
    "collapsed": false
   },
   "outputs": [],
   "source": [
    "sentences_wiki = []\n",
    "for line in input_text.split('\\n'):\n",
    "    s = [x for x in line.split('.') if x and len(x.split()) >= 5]\n",
    "    sentences_wiki.extend(s)\n",
    "    \n",
    "for s_i in range(len(sentences_wiki)):\n",
    "    sentences_wiki[s_i] = re.sub(\"[^a-z]\", \" \", sentences_wiki[s_i].lower())\n",
    "    sentences_wiki[s_i] = re.sub(r'\\([^)]*\\)', '', sentences_wiki[s_i])\n",
    "del input_text"
   ]
  },
  {
   "cell_type": "code",
   "execution_count": 43,
   "metadata": {
    "collapsed": false
   },
   "outputs": [
    {
     "name": "stdout",
     "output_type": "stream",
     "text": [
      "4267112\n",
      "853422\n"
     ]
    }
   ],
   "source": [
    "# sample 1/5 of the data\n",
    "shuffle(sentences_wiki)\n",
    "print(len(sentences_wiki))\n",
    "sentences_wiki = sentences_wiki[:int(len(sentences_wiki)/5)]\n",
    "print(len(sentences_wiki))"
   ]
  },
  {
   "cell_type": "code",
   "execution_count": 53,
   "metadata": {
    "collapsed": true
   },
   "outputs": [],
   "source": [
    "sentences_strings_wiki = sentences_wiki"
   ]
  },
  {
   "cell_type": "code",
   "execution_count": 54,
   "metadata": {
    "collapsed": true
   },
   "outputs": [],
   "source": [
    "sentences_wiki = []\n",
    "for sent_str in sentences_strings_wiki:\n",
    "    tokens = re.sub(r\"[^a-z0-9]+\", \" \", sent_str.lower()).split()\n",
    "    sentences_wiki.append(tokens)"
   ]
  },
  {
   "cell_type": "code",
   "execution_count": 55,
   "metadata": {
    "collapsed": false
   },
   "outputs": [
    {
     "name": "stdout",
     "output_type": "stream",
     "text": [
      "[['commandant', 'of', 'u'], ['on', 'april', 'there', 'was', 'still', 'discussion', 'in', 'washington', 'about', 'whether', 'or', 'not', 'there', 'should', 'be', 'any', 'public', 'announcement', 'of', 'the', 'tests', 'at', 'all'], ['the', 'following', 'week', 'they', 'faced', 'the', 'brumbies', 'in', 'the', 'first', 'final', 'to', 'be', 'hosted', 'at', 'jade', 'stadium'], ['on', 'the', 'day', 'it', 'was', 'shown', 'last', 'gasp', 'was', 'selected', 'as', 'comedy', 'pick', 'of', 'the', 'day', 'in', 'the', 'daily', 'express', 'but', 'the', 'following', 'day', 'an', 'extremely', 'critical', 'review', 'of', 'the', 'episode', 'by', 'virginia', 'blackburn', 'was', 'published', 'in', 'the', 'newspaper'], ['most', 'businesses', 'on', 'the', 'island', 'were', 'closed', 'on', 'august']]\n"
     ]
    }
   ],
   "source": [
    "print(sentences_wiki[:5])"
   ]
  },
  {
   "cell_type": "markdown",
   "metadata": {},
   "source": [
    "Now, repeat all the same steps that you performed above. You should be able to reuse essentially all the code."
   ]
  },
  {
   "cell_type": "code",
   "execution_count": 56,
   "metadata": {
    "collapsed": true
   },
   "outputs": [],
   "source": [
    "# ...\n",
    "tokens_flat = list(chain.from_iterable(sentences_wiki))\n",
    "c = collections.Counter(tokens_flat)\n",
    "\n",
    "words_top_wiki = []\n",
    "for word, count in c.most_common(1000):\n",
    "    words_top_wiki.append(word)"
   ]
  },
  {
   "cell_type": "code",
   "execution_count": 57,
   "metadata": {
    "collapsed": true
   },
   "outputs": [],
   "source": [
    "model_wiki = Word2Vec(sentences_wiki, min_count=10)"
   ]
  },
  {
   "cell_type": "markdown",
   "metadata": {},
   "source": [
    "#### t-SNE visualization"
   ]
  },
  {
   "cell_type": "code",
   "execution_count": 58,
   "metadata": {
    "collapsed": true
   },
   "outputs": [],
   "source": [
    "# This assumes words_top_wiki is a list of strings, the top 1000 words\n",
    "words_top_vec_wiki = model_wiki[words_top_wiki]\n",
    "\n",
    "tsne = TSNE(n_components=2, random_state=0)\n",
    "words_top_wiki_tsne = tsne.fit_transform(words_top_vec_wiki)"
   ]
  },
  {
   "cell_type": "code",
   "execution_count": 59,
   "metadata": {
    "collapsed": false
   },
   "outputs": [
    {
     "data": {
      "text/html": [
       "\n",
       "\n",
       "    <div class=\"bk-root\">\n",
       "        <div class=\"plotdiv\" id=\"e54d1878-c908-4001-9851-bce6b3edda3c\"></div>\n",
       "    </div>\n",
       "<script type=\"text/javascript\">\n",
       "  \n",
       "  (function(global) {\n",
       "    function now() {\n",
       "      return new Date();\n",
       "    }\n",
       "  \n",
       "    var force = \"\";\n",
       "  \n",
       "    if (typeof (window._bokeh_onload_callbacks) === \"undefined\" || force !== \"\") {\n",
       "      window._bokeh_onload_callbacks = [];\n",
       "      window._bokeh_is_loading = undefined;\n",
       "    }\n",
       "  \n",
       "  \n",
       "    \n",
       "    if (typeof (window._bokeh_timeout) === \"undefined\" || force !== \"\") {\n",
       "      window._bokeh_timeout = Date.now() + 0;\n",
       "      window._bokeh_failed_load = false;\n",
       "    }\n",
       "  \n",
       "    var NB_LOAD_WARNING = {'data': {'text/html':\n",
       "       \"<div style='background-color: #fdd'>\\n\"+\n",
       "       \"<p>\\n\"+\n",
       "       \"BokehJS does not appear to have successfully loaded. If loading BokehJS from CDN, this \\n\"+\n",
       "       \"may be due to a slow or bad network connection. Possible fixes:\\n\"+\n",
       "       \"</p>\\n\"+\n",
       "       \"<ul>\\n\"+\n",
       "       \"<li>re-rerun `output_notebook()` to attempt to load from CDN again, or</li>\\n\"+\n",
       "       \"<li>use INLINE resources instead, as so:</li>\\n\"+\n",
       "       \"</ul>\\n\"+\n",
       "       \"<code>\\n\"+\n",
       "       \"from bokeh.resources import INLINE\\n\"+\n",
       "       \"output_notebook(resources=INLINE)\\n\"+\n",
       "       \"</code>\\n\"+\n",
       "       \"</div>\"}};\n",
       "  \n",
       "    function display_loaded() {\n",
       "      if (window.Bokeh !== undefined) {\n",
       "        Bokeh.$(\"#e54d1878-c908-4001-9851-bce6b3edda3c\").text(\"BokehJS successfully loaded.\");\n",
       "      } else if (Date.now() < window._bokeh_timeout) {\n",
       "        setTimeout(display_loaded, 100)\n",
       "      }\n",
       "    }\n",
       "  \n",
       "    function run_callbacks() {\n",
       "      window._bokeh_onload_callbacks.forEach(function(callback) { callback() });\n",
       "      delete window._bokeh_onload_callbacks\n",
       "      console.info(\"Bokeh: all callbacks have finished\");\n",
       "    }\n",
       "  \n",
       "    function load_libs(js_urls, callback) {\n",
       "      window._bokeh_onload_callbacks.push(callback);\n",
       "      if (window._bokeh_is_loading > 0) {\n",
       "        console.log(\"Bokeh: BokehJS is being loaded, scheduling callback at\", now());\n",
       "        return null;\n",
       "      }\n",
       "      if (js_urls == null || js_urls.length === 0) {\n",
       "        run_callbacks();\n",
       "        return null;\n",
       "      }\n",
       "      console.log(\"Bokeh: BokehJS not loaded, scheduling load and callback at\", now());\n",
       "      window._bokeh_is_loading = js_urls.length;\n",
       "      for (var i = 0; i < js_urls.length; i++) {\n",
       "        var url = js_urls[i];\n",
       "        var s = document.createElement('script');\n",
       "        s.src = url;\n",
       "        s.async = false;\n",
       "        s.onreadystatechange = s.onload = function() {\n",
       "          window._bokeh_is_loading--;\n",
       "          if (window._bokeh_is_loading === 0) {\n",
       "            console.log(\"Bokeh: all BokehJS libraries loaded\");\n",
       "            run_callbacks()\n",
       "          }\n",
       "        };\n",
       "        s.onerror = function() {\n",
       "          console.warn(\"failed to load library \" + url);\n",
       "        };\n",
       "        console.log(\"Bokeh: injecting script tag for BokehJS library: \", url);\n",
       "        document.getElementsByTagName(\"head\")[0].appendChild(s);\n",
       "      }\n",
       "    };var element = document.getElementById(\"e54d1878-c908-4001-9851-bce6b3edda3c\");\n",
       "    if (element == null) {\n",
       "      console.log(\"Bokeh: ERROR: autoload.js configured with elementid 'e54d1878-c908-4001-9851-bce6b3edda3c' but no matching script tag was found. \")\n",
       "      return false;\n",
       "    }\n",
       "  \n",
       "    var js_urls = [];\n",
       "  \n",
       "    var inline_js = [\n",
       "      function(Bokeh) {\n",
       "        Bokeh.$(function() {\n",
       "            var docs_json = {\"51d8ec0d-b578-43c0-b817-2dcf896bb685\":{\"roots\":{\"references\":[{\"attributes\":{},\"id\":\"6f8509a1-efcf-4481-bb71-e5111622257b\",\"type\":\"BasicTickFormatter\"},{\"attributes\":{\"callback\":null},\"id\":\"9e3b1c93-ae6f-4d2d-95b5-dd2a7c49b777\",\"type\":\"DataRange1d\"},{\"attributes\":{\"callback\":null},\"id\":\"1a06a9a0-c2a5-4832-b956-7a3729733a5b\",\"type\":\"DataRange1d\"},{\"attributes\":{\"active_drag\":\"auto\",\"active_scroll\":\"auto\",\"active_tap\":\"auto\",\"tools\":[{\"id\":\"0b0ff83c-0eaa-469f-8f96-556ef527306c\",\"type\":\"PanTool\"},{\"id\":\"5cdaa685-4322-4621-8547-55daa81da261\",\"type\":\"WheelZoomTool\"},{\"id\":\"b670363e-c489-41d5-adb5-463722e087d0\",\"type\":\"ResetTool\"},{\"id\":\"1b6ecd1d-4c6f-460d-b68e-2b2ff00ad50b\",\"type\":\"SaveTool\"}]},\"id\":\"1ff7a28c-65a7-40ae-bbd6-4cc19d28c67f\",\"type\":\"Toolbar\"},{\"attributes\":{\"plot\":{\"id\":\"bfeb0619-ed2f-4306-834d-9a7332821484\",\"subtype\":\"Figure\",\"type\":\"Plot\"}},\"id\":\"1b6ecd1d-4c6f-460d-b68e-2b2ff00ad50b\",\"type\":\"SaveTool\"},{\"attributes\":{\"plot\":{\"id\":\"bfeb0619-ed2f-4306-834d-9a7332821484\",\"subtype\":\"Figure\",\"type\":\"Plot\"},\"source\":{\"id\":\"89aba919-d13d-4950-824b-44f6b9650759\",\"type\":\"ColumnDataSource\"},\"text\":{\"field\":\"names\"},\"text_align\":\"center\",\"text_color\":{\"value\":\"#555555\"},\"text_font_size\":{\"value\":\"8pt\"},\"x\":{\"field\":\"x1\"},\"y\":{\"field\":\"x2\"},\"y_offset\":{\"value\":6}},\"id\":\"9db66592-e6d3-45de-906d-75332c7a1cc3\",\"type\":\"LabelSet\"},{\"attributes\":{\"formatter\":{\"id\":\"6f8509a1-efcf-4481-bb71-e5111622257b\",\"type\":\"BasicTickFormatter\"},\"plot\":{\"id\":\"bfeb0619-ed2f-4306-834d-9a7332821484\",\"subtype\":\"Figure\",\"type\":\"Plot\"},\"ticker\":{\"id\":\"935da833-f346-4624-9868-b2e434b5e898\",\"type\":\"BasicTicker\"}},\"id\":\"226c3bb3-8252-4167-ab75-2abd187abc53\",\"type\":\"LinearAxis\"},{\"attributes\":{},\"id\":\"57e843eb-419d-424b-a6ec-7fbce94bfdf4\",\"type\":\"BasicTickFormatter\"},{\"attributes\":{\"plot\":{\"id\":\"bfeb0619-ed2f-4306-834d-9a7332821484\",\"subtype\":\"Figure\",\"type\":\"Plot\"}},\"id\":\"0b0ff83c-0eaa-469f-8f96-556ef527306c\",\"type\":\"PanTool\"},{\"attributes\":{\"plot\":{\"id\":\"bfeb0619-ed2f-4306-834d-9a7332821484\",\"subtype\":\"Figure\",\"type\":\"Plot\"}},\"id\":\"5cdaa685-4322-4621-8547-55daa81da261\",\"type\":\"WheelZoomTool\"},{\"attributes\":{\"callback\":null,\"column_names\":[\"x2\",\"names\",\"x1\"],\"data\":{\"names\":[\"the\",\"of\",\"and\",\"in\",\"to\",\"a\",\"was\",\"s\",\"on\",\"as\",\"for\",\"that\",\"with\",\"by\",\"is\",\"his\",\"at\",\"he\",\"from\",\"it\",\"were\",\"an\",\"had\",\"which\",\"be\",\"this\",\"but\",\"first\",\"are\",\"not\",\"their\",\"after\",\"one\",\"her\",\"also\",\"its\",\"they\",\"two\",\"or\",\"have\",\"who\",\"been\",\"new\",\"has\",\"she\",\"when\",\"time\",\"during\",\"other\",\"would\",\"into\",\"all\",\"i\",\"more\",\"while\",\"over\",\"him\",\"only\",\"game\",\"later\",\"up\",\"three\",\"most\",\"between\",\"out\",\"about\",\"th\",\"there\",\"than\",\"some\",\"film\",\"may\",\"before\",\"year\",\"no\",\"made\",\"such\",\"second\",\"season\",\"where\",\"years\",\"world\",\"war\",\"both\",\"used\",\"then\",\"however\",\"these\",\"through\",\"series\",\"song\",\"being\",\"them\",\"against\",\"m\",\"album\",\"many\",\"city\",\"north\",\"several\",\"team\",\"became\",\"part\",\"can\",\"including\",\"number\",\"well\",\"four\",\"united\",\"under\",\"early\",\"state\",\"day\",\"south\",\"so\",\"music\",\"following\",\"episode\",\"said\",\"states\",\"known\",\"although\",\"american\",\"could\",\"did\",\"work\",\"began\",\"until\",\"released\",\"called\",\"because\",\"t\",\"like\",\"high\",\"people\",\"british\",\"end\",\"since\",\"around\",\"national\",\"each\",\"long\",\"best\",\"life\",\"september\",\"found\",\"if\",\"west\",\"along\",\"us\",\"back\",\"another\",\"same\",\"five\",\"million\",\"final\",\"show\",\"use\",\"took\",\"you\",\"area\",\"off\",\"km\",\"any\",\"group\",\"august\",\"received\",\"school\",\"century\",\"october\",\"due\",\"government\",\"line\",\"what\",\"east\",\"will\",\"john\",\"single\",\"march\",\"system\",\"june\",\"home\",\"july\",\"games\",\"third\",\"november\",\"general\",\"large\",\"much\",\"april\",\"down\",\"major\",\"based\",\"set\",\"left\",\"company\",\"family\",\"history\",\"house\",\"just\",\"army\",\"name\",\"place\",\"december\",\"york\",\"we\",\"included\",\"played\",\"road\",\"band\",\"wrote\",\"character\",\"six\",\"king\",\"january\",\"now\",\"last\",\"won\",\"main\",\"death\",\"led\",\"described\",\"within\",\"according\",\"men\",\"next\",\"st\",\"those\",\"own\",\"late\",\"times\",\"video\",\"de\",\"near\",\"river\",\"d\",\"named\",\"make\",\"release\",\"top\",\"air\",\"very\",\"league\",\"battle\",\"still\",\"great\",\"original\",\"record\",\"even\",\"public\",\"club\",\"way\",\"production\",\"man\",\"ship\",\"u\",\"february\",\"storm\",\"small\",\"old\",\"species\",\"again\",\"route\",\"force\",\"though\",\"university\",\"built\",\"days\",\"service\",\"held\",\"do\",\"play\",\"b\",\"story\",\"book\",\"french\",\"further\",\"among\",\"german\",\"division\",\"power\",\"side\",\"white\",\"role\",\"members\",\"match\",\"having\",\"often\",\"point\",\"order\",\"h\",\"career\",\"player\",\"park\",\"former\",\"water\",\"black\",\"continued\",\"without\",\"town\",\"despite\",\"came\",\"local\",\"england\",\"few\",\"considered\",\"half\",\"county\",\"party\",\"take\",\"version\",\"form\",\"songs\",\"military\",\"moved\",\"development\",\"island\",\"different\",\"written\",\"period\",\"support\",\"english\",\"london\",\"lost\",\"forces\",\"become\",\"ii\",\"given\",\"president\",\"country\",\"court\",\"little\",\"c\",\"building\",\"tropical\",\"re\",\"international\",\"published\",\"church\",\"using\",\"produced\",\"short\",\"track\",\"tour\",\"street\",\"my\",\"returned\",\"gave\",\"television\",\"performance\",\"royal\",\"similar\",\"attack\",\"lead\",\"recorded\",\"n\",\"never\",\"position\",\"class\",\"aircraft\",\"went\",\"children\",\"fire\",\"stated\",\"highway\",\"land\",\"how\",\"run\",\"control\",\"ships\",\"total\",\"live\",\"western\",\"good\",\"week\",\"include\",\"per\",\"throughout\",\"upon\",\"making\",\"star\",\"himself\",\"women\",\"father\",\"players\",\"less\",\"once\",\"right\",\"australia\",\"characters\",\"central\",\"me\",\"light\",\"love\",\"across\",\"age\",\"previous\",\"head\",\"design\",\"instead\",\"remained\",\"return\",\"rock\",\"r\",\"away\",\"developed\",\"title\",\"sea\",\"political\",\"young\",\"seven\",\"night\",\"law\",\"station\",\"writing\",\"months\",\"result\",\"ten\",\"office\",\"various\",\"southern\",\"too\",\"died\",\"red\",\"center\",\"e\",\"hurricane\",\"ft\",\"reported\",\"style\",\"eight\",\"felt\",\"act\",\"son\",\"america\",\"low\",\"race\",\"field\",\"sent\",\"win\",\"eventually\",\"japanese\",\"construction\",\"award\",\"followed\",\"areas\",\"announced\",\"james\",\"william\",\"reached\",\"should\",\"performed\",\"seen\",\"noted\",\"college\",\"miles\",\"created\",\"level\",\"together\",\"member\",\"served\",\"full\",\"killed\",\"taken\",\"front\",\"northern\",\"born\",\"range\",\"works\",\"mm\",\"able\",\"campaign\",\"common\",\"originally\",\"chart\",\"points\",\"george\",\"thought\",\"success\",\"action\",\"established\",\"caused\",\"features\",\"addition\",\"australian\",\"project\",\"appeared\",\"modern\",\"body\",\"stage\",\"others\",\"get\",\"critics\",\"present\",\"playing\",\"started\",\"football\",\"feet\",\"special\",\"post\",\"added\",\"rather\",\"bridge\",\"decided\",\"fourth\",\"located\",\"heavy\",\"o\",\"completed\",\"popular\",\"go\",\"f\",\"formed\",\"kingdom\",\"championship\",\"soon\",\"site\",\"sold\",\"important\",\"initially\",\"every\",\"damage\",\"almost\",\"behind\",\"see\",\"free\",\"guns\",\"ground\",\"saw\",\"close\",\"eastern\",\"open\",\"michael\",\"case\",\"fleet\",\"director\",\"awards\",\"command\",\"strong\",\"david\",\"region\",\"leading\",\"non\",\"opened\",\"art\",\"weeks\",\"working\",\"union\",\"mother\",\"population\",\"worked\",\"provided\",\"allowed\",\"towards\",\"l\",\"brought\",\"recording\",\"coast\",\"france\",\"scene\",\"sound\",\"least\",\"wanted\",\"mi\",\"does\",\"troops\",\"hall\",\"ever\",\"records\",\"event\",\"navy\",\"put\",\"events\",\"wife\",\"help\",\"featured\",\"training\",\"either\",\"washington\",\"runs\",\"scored\",\"magazine\",\"studio\",\"victory\",\"far\",\"example\",\"henry\",\"joined\",\"average\",\"cup\",\"opening\",\"generally\",\"council\",\"europe\",\"hit\",\"human\",\"mid\",\"placed\",\"hours\",\"co\",\"media\",\"official\",\"believed\",\"designed\",\"nine\",\"list\",\"robert\",\"start\",\"shot\",\"summer\",\"minutes\",\"japan\",\"replaced\",\"forced\",\"x\",\"radio\",\"available\",\"rest\",\"al\",\"base\",\"earlier\",\"met\",\"association\",\"involved\",\"operation\",\"squadron\",\"test\",\"review\",\"films\",\"society\",\"research\",\"finished\",\"significant\",\"largest\",\"highest\",\"mph\",\"beginning\",\"taking\",\"saying\",\"particularly\",\"brown\",\"crew\",\"possible\",\"successful\",\"units\",\"process\",\"european\",\"outside\",\"change\",\"big\",\"police\",\"cast\",\"social\",\"month\",\"turned\",\"section\",\"stone\",\"appearance\",\"reviews\",\"come\",\"increased\",\"san\",\"must\",\"captain\",\"space\",\"above\",\"additional\",\"going\",\"program\",\"ended\",\"lower\",\"real\",\"move\",\"community\",\"ordered\",\"middle\",\"enough\",\"elements\",\"future\",\"staff\",\"lake\",\"thomas\",\"thus\",\"round\",\"praised\",\"hill\",\"better\",\"previously\",\"rights\",\"chief\",\"winds\",\"g\",\"parts\",\"board\",\"charles\",\"relationship\",\"lines\",\"castle\",\"interest\",\"passed\",\"california\",\"canada\",\"signed\",\"port\",\"positive\",\"business\",\"type\",\"infantry\",\"india\",\"told\",\"room\",\"gun\",\"overall\",\"critical\",\"cross\",\"don\",\"whose\",\"failed\",\"gold\",\"spent\",\"attempt\",\"find\",\"hand\",\"plan\",\"musical\",\"money\",\"goal\",\"give\",\"sometimes\",\"paul\",\"uk\",\"prior\",\"election\",\"cover\",\"itself\",\"past\",\"evidence\",\"entire\",\"v\",\"groups\",\"loss\",\"committee\",\"complete\",\"battalion\",\"news\",\"study\",\"personal\",\"brother\",\"directed\",\"governor\",\"germany\",\"required\",\"introduced\",\"bill\",\"female\",\"anti\",\"term\",\"asked\",\"novel\",\"green\",\"already\",\"district\",\"grand\",\"usually\",\"movement\",\"square\",\"department\",\"p\",\"stars\",\"peter\",\"speed\",\"plot\",\"limited\",\"shows\",\"britain\",\"quickly\",\"person\",\"surface\",\"smith\",\"idea\",\"turn\",\"press\",\"indian\",\"education\",\"centre\",\"services\",\"issue\",\"la\",\"arrived\",\"commander\",\"living\",\"k\",\"village\",\"background\",\"our\",\"claimed\",\"industry\",\"nearly\",\"score\",\"reception\",\"flight\",\"whom\",\"students\",\"queen\",\"structure\",\"scenes\",\"debut\",\"writer\",\"effects\",\"pressure\",\"decision\",\"ny\",\"woman\",\"fifth\",\"earth\",\"food\",\"voice\",\"especially\",\"teams\",\"defeated\",\"becoming\",\"minister\",\"response\",\"virginia\",\"language\",\"civil\",\"estimated\",\"carried\",\"science\",\"dark\",\"running\",\"episodes\",\"might\",\"blue\",\"length\",\"richard\",\"commercial\",\"mark\",\"remaining\",\"report\",\"operations\",\"bay\",\"material\",\"car\",\"approximately\",\"empire\",\"tracks\",\"daughter\",\"cut\",\"influence\",\"depression\",\"larger\",\"shortly\",\"appointed\",\"winning\",\"suggested\",\"god\",\"pop\",\"changes\",\"intended\",\"nature\",\"finally\",\"destroyed\",\"brigade\",\"leaving\",\"self\",\"los\",\"soldiers\",\"date\",\"fact\",\"upper\",\"cost\",\"hot\",\"entered\",\"related\",\"percent\",\"leader\",\"higher\",\"provide\",\"today\",\"naval\",\"railway\",\"awarded\",\"network\",\"latter\",\"course\",\"regular\",\"face\",\"child\",\"chinese\",\"size\",\"plans\",\"wide\",\"islands\",\"subsequently\",\"view\",\"married\",\"contract\",\"natural\",\"private\",\"current\",\"agreed\",\"immediately\",\"federal\",\"changed\",\"trade\",\"experience\",\"officer\",\"compared\",\"soviet\",\"ball\",\"producer\",\"museum\",\"really\",\"buildings\",\"cm\",\"fort\",\"mostly\",\"whether\",\"lack\",\"manager\",\"your\",\"health\",\"proposed\",\"friends\",\"guitar\",\"fans\",\"officers\",\"spanish\",\"singles\",\"countries\",\"captured\",\"helped\",\"jackson\",\"supported\",\"pacific\",\"associated\",\"chicago\",\"planned\",\"initial\",\"forward\",\"create\",\"professional\",\"appear\",\"damaged\",\"themselves\",\"feature\",\"johnson\",\"done\",\"nd\",\"dance\",\"yet\",\"longer\",\"minor\",\"remains\",\"effect\",\"fight\",\"billboard\",\"numerous\",\"moving\",\"fell\",\"difficult\",\"books\",\"energy\",\"copies\",\"suffered\",\"friend\",\"something\",\"lyrics\",\"edward\",\"lord\",\"dead\",\"information\",\"terms\",\"atlantic\",\"probably\",\"ran\",\"increase\",\"location\",\"pass\",\"likely\",\"independent\",\"extended\",\"unit\",\"mixed\",\"status\",\"key\",\"removed\",\"got\",\"primary\",\"corps\",\"via\",\"movie\",\"artist\",\"leave\",\"edition\",\"always\",\"know\",\"sales\",\"problems\"],\"x1\":[4.6543410912566765,10.578072239451169,10.826566005935653,11.820877717136232,12.547906466990657,3.7520707989918614,5.360362497206426,-10.604058917613015,12.861482467655708,4.661886432799421,9.830008465628774,-3.837988998651633,11.083088690945331,11.534531884945872,5.345334450546229,-2.07712029356707,14.191059989691666,-3.4546190930477043,14.16056757980737,2.6708379468294847,4.629377790230995,3.660658364714313,6.6695631316162975,-3.61757082033398,3.8388114460949017,2.843523472483657,-5.242373666071333,9.637555722026354,4.632276144347811,5.256797251027766,-0.33389268355333396,18.65405101966847,12.045464933970443,-1.993402614064574,5.781154019089421,4.393971428085723,-3.4391233005547015,14.549166055931977,3.5077832694983972,8.282180244641767,-8.931721765365431,2.460151945625672,6.564417742763533,8.391201613783888,-3.482087517741496,-2.879217144174144,3.3795529225005234,16.828351277354706,11.18142235723432,-4.613204310156099,15.542537038130321,12.842324684675674,-3.171304872664101,3.822702024546357,-4.321165557978383,16.09020411931098,-0.7476081564870625,4.708487127609298,0.9518259517400497,9.171392851321018,10.647938342187956,14.79487365978867,0.844193080040182,15.0053541459046,11.520723119624197,17.282532260220798,7.122326870895047,6.934508849061528,3.025995280965146,12.305136103582385,-9.723416715457367,-5.490227231196313,18.675960031055123,-20.618872876202527,3.933833689658942,19.25878258798515,-0.7615272861573592,10.013614835049651,-9.923104226802831,-3.2798309626698767,-20.818622459254037,-9.242848736275562,-11.88755668023354,12.79214298203368,7.68892185605816,6.995647502279166,-6.033481028168932,11.377444636038728,14.875559497486407,-8.836117924641668,-1.5372627297157515,3.9137256786332055,-0.5448917068692262,15.612275086802095,-21.42769022418449,-1.5415709490862948,12.503641397220646,-5.778356762404442,1.2474321828498607,13.170305560515668,0.3166610304023848,19.062602288590732,-5.902627825815815,-5.1909073531134675,4.573394150844254,16.72452945097417,-0.7706027343358347,14.944961219987842,-8.235002048651856,12.418281106208422,5.148742445078375,-13.312079747076211,-20.50391686358778,1.203062305827294,2.4145096781072497,-2.4183336473474752,18.4354379241988,-8.651789370652956,6.027848999316333,-11.844712608773007,6.747993694075555,-4.107953805783189,-11.729513796296386,-4.658548185847374,-3.326160749320391,-6.059985973147975,13.972468465925113,6.558784736988852,4.51641778231746,9.038882759179042,-5.15226048294016,1.9278780565552673,0.9713106833946095,6.944744238857387,-13.473814219698598,-11.972767340205259,7.173454654166116,4.795046063091031,14.319919125019087,-9.56498205801009,5.068505666347431,8.40576974827731,12.067506280223476,-2.759448182226111,-21.021960805495354,7.675449503998513,-3.3220788914856834,1.0914242218424155,14.878892976439218,-7.330720957895626,11.246033907971402,3.7967726161075714,5.831234326080323,15.176668259384174,18.38075844774154,9.317336044415685,-8.201771477943392,15.166678280775372,16.594799842352664,-3.700404299292625,-2.925659960004282,11.381558062194438,-25.687821399136585,3.560565307412275,-6.756670840494717,-20.899453769387033,11.798697931032482,-16.013021315921574,-3.751829003239986,-20.88623408889172,18.605843419909707,-14.426074520167347,-3.1322932168490545,-3.115315989504866,1.0927106397295274,-4.916488858130763,-12.919365748324742,1.0001622288647298,-20.432100601903183,-0.7305864778079132,-20.566163053527557,-0.7441139743182188,-20.768083124233492,0.9530257322635877,10.081590415540653,-20.82254631447922,-14.240820214896406,9.895196011445197,4.159344525845886,-20.469956632001782,11.431828122644847,10.007050859919918,-4.860043023374959,12.910985284312764,13.656461667234211,-8.807875249665518,-15.278115357949718,-1.7968910317162297,-7.930236499877167,5.6047717432818045,-16.580660090810344,14.93997999744515,5.559924759706557,-20.542506501521455,-4.213227313583715,-1.9178297133380804,5.052065702062307,11.653273752639263,-7.019660552331634,-1.022632254022897,5.918737419740779,-4.418615115544043,15.163429093710436,-14.89622565308637,-20.487655716759857,4.560441615547256,9.394083297478769,15.891521600168238,7.717720791538259,-13.781004015441296,14.494392473199508,8.479813048764987,13.201438421660974,2.682236167983311,-14.465307036019496,9.372952204948689,7.08692453888561,1.1920580998650712,-2.8063226250199236,5.067780598424501,2.7157555949352545,-9.442109040192475,-21.95809200007662,14.150761578743278,-4.825457277820148,-20.63590438835791,10.32503471719624,18.43580667837666,24.379127725350898,11.351124233300185,-13.477539910423147,2.832111828067371,0.554396962053991,-11.506734218132532,4.268357289651981,2.364956848410908,6.644960311935675,20.678156258691278,4.087139925825818,-10.85861855533075,-0.03322827901265255,6.449102861394503,-6.1394011416883405,-13.25511641131422,-15.1475522429774,-7.610726082172756,-20.487850302842332,-19.449518120596167,9.898955204897286,8.573646959446817,-0.9737330393231532,7.67239857160432,-7.056407506308632,-16.383079020334517,-6.205666876222613,-15.22512629956193,23.277517976054977,-20.92500234510482,-12.44247592452037,10.171112762295959,6.759493274896552,11.915436415165395,-21.73659984328154,-5.787587948613177,-5.254162138243572,-12.78409314889197,8.12760081340244,11.467841557757815,-12.375824716889422,-16.37139069462868,0.9743878851423671,8.881720678952972,-6.7820378307310705,-3.6431107480853537,-16.49725249629311,16.682948889370433,10.087925884108977,4.06068294253577,-1.2533969381001637,13.55231179544787,-20.141201050484643,-2.3440762083616518,-0.23775879114638968,-5.526056150931249,-12.228753782348635,-0.25578695763179005,-6.646041254465236,11.628954446360398,4.268033961074664,-7.533057176703202,-4.7752731194738125,14.818357245403964,-10.49119149815301,-8.198535886742507,13.780502065017606,7.900347389558321,16.500674073021244,-8.886793917688324,-7.292879167261972,16.961903749559777,2.5674102131324545,-1.5647582701260732,-1.456045921413144,-15.039224617855028,13.073523452333353,-5.639996603937421,-2.975692407194143,11.080542195394903,4.034905717846358,3.6176013590692846,13.006940581046827,-13.010642053319271,-7.027742981313978,11.818612139414268,-16.56270401815692,19.43034050228247,-19.0812468853731,10.559206198321647,-15.922731415483467,-8.8449313228294,-13.902041343042256,3.5688291240287864,-21.221117087331034,-7.259202602722582,-19.452415897007604,7.337673967778963,-9.255893694702827,3.518274449284479,-7.66408637904099,15.138414324095908,4.636567289574284,8.416597397468111,-0.9064724116388019,0.8527452332651524,-7.759545126344373,-2.7082232079064696,12.798507543552,16.2890659581571,-8.473309679460971,1.1722006132866842,-16.747361709025217,8.870737726724421,-12.52907219382561,6.321520616897676,5.906946990680055,-21.46240406174615,5.212767962070606,5.807694071422164,-4.640573866755396,-14.444180028722988,14.534206136567494,-14.43308480964604,-5.273957221827482,7.260063493581855,-7.080969666640834,-2.6214422373812343,-3.1296782576654203,14.066730600059799,1.2496477456029422,-15.18406124731218,17.190525143019208,3.444257484119584,0.8518513066591195,3.1893356162144895,-20.58694597223091,4.569708956483962,17.45920939319487,16.504366287683258,12.844794783175253,19.23616357142384,-11.383445290408032,-0.7819456593391534,-14.431655854234272,-14.75716166100542,-0.134779436296877,4.963603475654524,6.914119284340245,8.683537974151065,-9.062892729753342,-5.54442645290345,0.16239336843992241,-2.4632914786458335,7.4589085138375415,0.4508604112867872,14.823598371630696,6.180313266669514,9.240480398363282,7.678724934559891,-6.147328801589361,7.002004460954224,16.289041859047526,16.708686181955063,-2.8792576162175916,-21.921618702311562,11.41576257952075,8.150236671003084,14.945613660987899,-3.269174724712446,-25.270086619580646,-11.926794469019796,15.294587328856059,-20.412649586654958,-12.94154335840501,-6.673837396807669,-8.676980268944277,-20.886191815290342,-5.291389706760514,15.26634057525318,-14.15524192640314,12.39306716764191,-0.3681191200433878,2.9175431103860276,-8.50743449469123,-6.544409851166222,-3.566849356667337,-21.013314618880436,-19.46956920447442,1.5627850516413877,6.279700419568518,-2.3020704840389334,15.332666832238512,1.7776682843481741,-12.822441261556913,-15.047105772878876,-10.95496349632989,6.955575470337125,18.024164335627013,-3.181628990284054,9.776114447330963,15.439009961264329,7.661282091934662,-12.334754217973925,-9.330817539004496,-1.2134334252001655,14.074159095848222,-2.781115034832541,5.50448370245251,-12.714448426562836,-13.485575256096224,12.99152796489946,-4.870643851115698,5.137985919461223,6.230701673952803,6.769723660097879,-16.02241963501615,-24.928965684917607,7.461512522941184,1.7062519573187014,9.37531046644968,-16.18441336801588,12.175465326068023,7.7128005693099135,20.843576393610693,11.123293520516961,9.292659157377651,0.02210868637268637,-9.074915076425139,1.3810417546360003,-8.432051139368212,1.4031966664206919,8.33970601231459,-8.052180953302491,8.029426638860796,6.497936043223159,0.33418337831243083,14.402156680651387,-13.112242056358387,7.400435337728438,10.208975326655533,-5.147394669712398,8.744140793375774,14.893270435740336,4.178048328899174,12.889028187188863,-11.571442670861654,-6.211434232729979,5.343728054707433,7.732820119107205,7.174315553867616,1.0568748009142872,1.1437858888926193,16.949711800036585,11.166569406166643,7.753224123081382,11.812504523191349,14.059340421413822,-0.14927851809587073,1.5747341513959727,8.562676201037474,6.074213197219628,8.92931676276831,3.93328602339714,-6.819487270848473,9.66635641509002,10.123381537322796,23.288801859717033,7.830669845625102,-20.4386798222847,10.527524578936882,10.754433201536937,16.333399491815378,-21.15456514530562,8.636980458905102,-11.83650963721452,16.93458073501874,8.354994207859319,-5.191010301136453,6.745400819462284,8.958845870913342,6.553439376673636,4.958588223664118,21.235777398145515,16.64798317470545,13.092323684190225,6.811857978146361,11.562256320883249,-5.103091372391214,-2.983609489773609,15.192570924020922,8.644776003769842,-1.5153444047453233,12.182119680305208,-11.641806336424649,-5.863563303750367,-15.700828912386477,-10.074201651000624,-1.2108227219885068,-14.030551685455187,8.51810322469562,-11.807770164361049,-2.2851178956692437,17.213260445734942,2.71906251670211,10.89235619601598,-6.554804666439001,-20.8994499390749,-5.128759754293913,-10.788620541516755,-14.849597243166993,-1.7070210889301225,12.297723400755654,9.761536911627505,8.52511507274019,14.630023180113376,-21.166135292424837,13.469112519726956,-0.6384133876047658,-2.014471332682001,-9.031338341136108,-5.043371619432071,-1.90186735681345,18.661048075957503,9.494410768272145,-25.625572742369048,-3.330664722838469,-16.626309730387636,-7.258595594163473,4.4432323416989155,20.68996189504046,18.224540718561997,-15.203652612122578,14.158449377236574,18.321581491089475,-14.888547952241801,13.022301316218414,5.7824064106736675,-15.265600800534612,3.537074093469445,-4.060522612603198,13.852116671953453,13.802009880652589,-9.016843455610342,-0.5568279496668571,15.22597260021366,4.2862093514642625,1.8177526393291608,-13.866852392426102,12.081411492109586,18.09491574576051,17.01979284274155,8.165285500641028,3.4328036962259185,-14.88399602404046,-8.796537791642084,12.051193978136077,0.0527391162190563,5.091983204061783,9.669569307593259,-21.019815305787795,-11.104321521293361,-9.14396141994424,-7.913579501425221,7.149537948960095,7.845956409383273,15.389717018960091,15.237353967837986,-12.858082487105472,5.617915630517539,11.929412980715279,4.230901431651246,-21.130576161924715,-8.965168745808171,10.027830725164321,8.884790695237427,-19.94565428239902,-8.807023358283606,10.739304316694879,6.412125522397426,-18.362796616496745,-1.5711644794283468,9.128230047908735,12.202892659848503,-10.543515930014841,20.072948863700084,-13.031894091101215,-15.789400503700236,16.356314158662954,-7.8934314466331434,-7.335525968712085,-10.574631980060119,-10.916319471084739,14.374338273951588,8.849755905002583,12.266217167573659,12.224055307835195,-26.802578465805016,7.464569577694054,16.712827847369883,3.7289178618636187,2.774741854218198,-7.285548122538095,-16.237267745809422,5.919790889517443,8.468917579465202,-15.092408386774803,-5.120913335627289,-9.78060199699637,12.980991173249068,0.2299471827659323,4.969138662054642,-15.978700933282658,-7.3677693274134075,-30.82845558328102,-20.612431522007405,13.54762872313297,-3.487752720575803,-8.803025408580925,2.1349559261002824,11.23786509754744,16.30568087897803,8.151683132485623,-2.6507471101826323,-5.014655238420538,-13.605252847768652,-1.4774138859850814,13.058376483459293,11.726536726840667,15.030811442411292,-8.909683758135676,14.334646686290188,6.543518622430093,-2.2240682849376063,12.247588926866543,-10.209903770746651,9.234784371118389,5.743285981603639,3.2495259627736317,-2.4404175863424253,6.1193221730133915,-16.0971148786043,-4.719173012788618,-12.989003703142814,4.039226492938342,17.056924564935116,7.461956149287062,-3.969557395998172,4.416791875627563,5.873207550265304,-10.063917151176653,-14.6009565204136,-25.301635330528914,-20.991088256280463,-2.575992875594428,-15.437831455072056,-13.556241650373227,-12.693146798979965,-2.925686465788781,-6.795808882686039,-2.6699072222563682,13.518386136505544,-2.722752273874182,-8.658200564256036,10.799692378525826,-3.8275563995012547,10.579723416399602,-9.67973057520835,-1.4489093205245474,-16.11729717640952,-11.797434302798077,5.602648974685208,-8.076523416048818,-5.117755985108047,6.967356249991241,9.979395315646968,-6.422774554089668,-10.152464405332859,-10.38314498462004,10.550949752115514,-6.26725519619004,13.254992373654533,13.719614134473474,17.636457865313595,8.338888972101069,-7.72972846559618,-2.4484892520847317,-5.012720187206202,14.16168963335831,18.25494851016656,2.9044070248826173,-11.70699328902143,-8.517836488088415,18.36629007635389,-7.968256167597881,-1.0276673137139685,4.408800808495977,6.085489651521059,-4.6431103687655115,6.2715644412425515,-20.321702875919613,-6.677433566468046,11.695054017278844,-15.725021156209785,7.513709218729824,-16.27444141788564,-8.420765012978485,-10.807691142105373,-2.3033465007744978,-15.179574039818904,4.5129873849282385,-15.950154788740042,-8.98848628370911,8.23734659494258,8.63133696533292,-11.596988457389623,-11.977212457074659,-6.6405063911823365,0.6927217516525727,9.579732606089145,-8.125848113342958,-6.60995611863523,5.115661144858539,-8.880351801466034,-5.847257631354124,4.086448014854286,-6.619456845538179,-4.929330817823326,-13.870338763978912,-20.9988573324246,-11.377124629660557,-11.806004703416196,1.7212652261202008,-5.545134825628905,9.16378863348515,3.5717486226530926,-9.054775646427546,7.976157854874087,-13.488653032641926,0.14841440656787894,-11.49737188810104,-4.479515091026838,15.7953792686596,-9.0564373882904,-11.381950054661079,-12.310902514590193,-6.0909777225765716,-12.360169212650668,-6.529888287362122,-21.767987962618733,12.418718956826662,-14.11288024352814,0.9534858771442003,-21.04672079216795,-5.834370459151386,-2.083665414513959,-1.2861005736041713,6.740768225858362,-8.918721011903417,15.454783542518035,13.723507343720646,11.681589549495271,-13.956158662632696,-8.94363068398388,-13.926543456823117,-15.08076781991407,-1.609816317929543,-5.1933559071597815,2.5053748247908096,-9.654168340758545,-0.5859285231262539,1.6887356039685764,-5.871784483238042,-7.080840641333635,-13.356158842498997,10.165460817737424,0.12214228545036308,-0.40476975472201343,-2.6755856702024627,1.188825950815286,0.17915773891667439,11.624515014186736,19.229094972500196,-16.140297273764006,12.692190130058204,-2.555744297334758,-13.16364521039226,-14.91316603398464,5.973111911524988,12.915185734926943,-10.73232679881817,-5.6731091995632115,13.366819120004443,-8.265221369525694,-4.949139980068762,-6.477477919137355,2.226958010781669,-12.910288308097496,-8.860903996402696,-11.379790102751143,14.823845295115046,-7.532450325455651,-13.330049056284174,-3.97688267925986,-1.9846370381771214,10.92421392805602,17.083407174841575,-9.311205659078732,-0.711862259360355,-14.930177107084083,12.837038940723039,-1.6718125603681482,-19.40570066126662,5.2983654679637295,8.858940062385505,8.751224400080552,15.776233954753497,6.727853549737034,-0.47375649113890494,-2.7073395114379046,0.7745596856153456,8.522838412300805,0.34131658543156584,9.078793728786039,20.9868195423913,-16.307436310209642,13.832108598814296,-0.8566801683514181,-2.105781753470066,-16.127715884624177,6.904990977374499,-4.21139194768783,4.851002287971502,19.036789878326775,0.19875658535747537,13.040233097973337,9.279062859376978,18.037447398901516,-15.522569506511378,5.627266370618035,18.668071505993392,3.198259957593206,-15.057803042938966,-6.819444025969133,10.678603267072894,-9.013315104009282,6.262318147864173,5.9673443863209075,8.37386870221781,9.08036910814471,-13.954609540547631,-12.591866744403157,2.141348101485214,-5.949843437782313,9.884520839821253,-2.7558352569359497,7.929884662128249,-2.985061481528446,-8.95875800891319,-6.4183665099183225,1.4792892467444572,-10.335101021481101,6.703998073517611,9.832667438491757,7.965179680684731,-13.512169646855998,9.299268635495075,-9.46677347225846,-2.413375017060518,-14.32902807795698,2.8980076153862036,-13.397797080992031,13.140169950301205,-10.019872712339984,-6.058570768373621,2.0935841316746924,-7.315098803601717,1.4502894007250797,-4.414080867878891,2.655909193432151,-4.16991930678354,1.144848496514635,-12.00282892902268,-1.139455297475835,-12.190856543485335,8.763620315581793,-13.813085603997399,-0.5704658048320692,-12.851902405424255,-16.12239896573575,-12.483578679971842,0.026296089931488284,-8.222607304666194,20.81488617854921,10.235500096055878,-11.002887934463024,9.736937460825118,-2.9580109425060326,9.537558138116172,-3.0633961977162554,8.613967967263983,6.752484450802613,10.835909959123136,18.662296730905982,-0.38220043621468297,4.655414704585152,21.079129525248973,-0.536163117664278,4.316190883604494,-11.952844429733394,6.148725125052547,7.114777841387908,-2.6024436602249748,4.15866449600701,4.74337360866874,10.21703959626517,3.06505648341947,-1.8137161382630038,10.057940332479793,0.21383100531275348,12.670477273293086,14.125104007817953,14.288922320391052,5.721839279875428,-7.735099156567284,0.6215135745341277,21.49164217680352,15.784105444018373,-13.96287548012942,2.018468222485066,-1.8977457977208,-13.865899323712913,-14.426627920624055,2.265498859539378,-5.247529470785974,1.0166597356011218,-1.1758550353032424,3.1178271634586543,14.207122035808512,8.149982615085676,-6.015087203299122,13.957420767826747,5.305674055267923,-7.871161825570495,9.059197125633247,-13.553935570486141,10.052483692639173,0.47250650505977676,9.305767236267682,9.424265084435339,14.878959969561086,7.592655477882037,-16.376077271805993,14.543408477519598,-9.081497041178237,-9.788185633455027,16.745956466581717,2.572827290908823,3.4628284836572725,6.790617439484459,23.071183119972936,0.43186687022333037],\"x2\":[8.372607029624325,6.507954666641024,5.87980456605492,6.7933892494078325,0.21033740365921388,9.885331012288232,-7.495717360777301,-11.940852477794335,4.779582345885601,4.894671095954404,6.544639320584764,-12.520810182434653,5.74859669156555,4.031362354252737,-7.4815433359138,5.247383163657703,8.134415937095877,5.395532709487726,3.988196881569582,8.364276065067639,-6.597145267264679,9.56695648052516,-6.9311529171582835,-13.553556782656065,7.1831803672779415,8.473393307929218,-13.982194091539233,16.816551291614463,-6.613556322237884,-0.6353820094091883,4.865838636271996,5.145417395959826,15.219274992761228,5.422061398879456,1.812152565607017,7.776616042866637,4.131674856413979,13.632995856754325,5.062788352070097,-7.224341286089725,-13.098871499025782,6.378006054639372,5.745481911286073,-8.744294894471665,5.424337158370984,-14.224013857989473,18.46957204396226,6.820868523943445,12.05947714210556,-19.657400674843842,4.930042479751066,11.166039114702677,3.0469016745899276,13.199875689662854,-14.91784949368804,8.876549884499397,6.378398085279914,2.5927432988366044,-15.085579145877581,14.54429194293313,-2.5826653541734594,13.646073438595307,3.621237722151193,7.1309870298805125,-2.3828633614646497,9.648232577644169,20.909986127707093,4.049743917403425,0.7798921443655826,12.678936605290009,-4.785873611461542,-19.449107592660898,5.1229243546085,6.944575797685699,-0.7162437316883576,-10.725951954393903,-17.218242087480746,17.595055171051545,-2.4089634759798,-14.098950695725694,5.244229795248881,10.758872276094731,14.717006075380587,11.297639171818393,-16.11234843635483,-0.10062242125562293,-13.946462345648232,12.8633516177397,5.372107154143569,-2.604622816403191,-8.136594184709002,9.10852504816539,6.6449904926759125,0.6137045793601055,-4.582196637845464,-8.273416201140321,12.761342617922743,18.09220695035094,21.60578811992147,12.929275122120126,-13.06052208858563,-12.412203910210152,-26.94172902632509,-20.368156510386633,-13.027686970689663,14.249222245287552,-17.21566018795891,13.650681641267095,10.50765381716356,6.4207643486247274,17.32596368682842,6.354923779259194,7.5258767368556425,21.58273069592387,-3.570546788686562,-6.4402403420793055,5.147494147637826,-3.561132144634136,-22.602567448600325,8.105924157551675,-19.380640551330067,-14.018601434712151,12.908958375936063,-19.802088586015227,-19.31129633000182,-6.0967701658099696,-14.955798014975283,0.6291023294801329,-15.693751671692691,-21.253362655458357,-13.667389081191429,-2.374848884920827,-4.172414559452045,13.109309503300626,-0.022311047243891984,11.566124911577472,18.421081861530713,1.1695797440055196,7.0281612358266,9.02921156195019,10.124806422739574,10.718250230991435,17.65973386601303,-1.5915979426448181,11.857320066458353,-21.304176900909386,-12.32029479162107,21.588239308486305,6.1377893893139,9.998568632782302,-1.8593191834131846,9.863257636396542,8.844220287447051,13.651033215723835,13.565063726158408,16.92413770181953,-2.7483673613696737,2.5300464210205367,-11.924020511875966,2.889301561769684,18.38785526360532,-2.2266497722212777,1.2563953451693568,6.471005069595208,6.728977848280606,11.696539787183418,-19.61520831667429,3.117991038803953,7.406867133063899,11.776847260871937,3.292085761115832,5.484050017221034,10.189935671229033,-10.971756015504802,21.58745100225259,-19.859184121779343,-8.854424726373853,-8.482307527059834,11.681988064731911,9.166230699072658,11.995057957190639,15.002268274342514,11.631058337779892,-15.074851319094298,17.610902451741463,12.087692516158071,-10.684210099464114,10.184421037472422,-1.9202714921557635,11.631231037605513,-2.149817975175547,6.515678579303386,-7.478800879632251,-9.340048344649524,-10.476908457973146,5.592730104031847,-3.4850416570013296,-1.4111188774538457,15.660147096766714,-1.974981514384837,16.565462848705064,-1.5004660411093802,-4.7362162846845415,12.057557047964476,14.140307664465412,3.195728170692285,-14.486711735883565,-5.97440204182763,20.591812746733268,-7.402676400579052,-23.593785701375275,-3.86600240214535,13.625614176976008,-7.689562937049779,12.071113394043975,3.3141996574275416,16.53590978223568,-5.873756439002767,7.216806249925067,-6.283934219155284,-18.043194745801713,-23.884579270125887,7.524915928858158,-19.405933714149207,-0.07620079964307966,15.961283617375603,20.945424667323586,5.265461463944625,1.141262928692143,17.343633749004425,-10.638522285474417,-3.713538115393327,-8.119109625415792,7.803874044360611,19.715664931970807,-6.971637105325097,-24.944111911283628,-9.447975205011199,12.591356589027527,17.713408700235604,15.517556878352034,-3.6029969461286466,-12.760972585832352,16.182129279811086,1.8386002549215403,-0.2176189433309585,7.776309673264132,-4.16592555337657,1.3076142770448043,5.750595532286294,-12.307585361150766,-2.970832229841259,4.3196654976714095,-1.8105667671263141,14.26650488452532,9.974010454482896,12.03590505604741,0.17676013142935926,10.160568583195396,14.17955605734311,17.727796285829236,-0.9720741403203599,21.40981571743378,15.95272798956226,-13.973646487480178,1.8323445035035282,15.919458393060088,5.000713434348437,19.0286238751009,-19.289489081159726,-9.716808910857283,-5.322366102094525,-6.054430619733348,-4.035396941708249,-6.9041767127414015,11.765423391809332,1.0367801298131,5.10543490279676,10.807512113745386,17.849899753061237,9.786346918897921,-3.981314095557034,-9.95931203862835,-2.6631585570883303,-12.778022888234837,-3.0086068859810564,-7.586198187382672,5.576004736357888,15.92838950485711,-0.049063716755210665,-6.688762809103465,-2.5798399084429273,-14.136885707660838,15.995672068037798,-10.215889245720048,11.038926628994417,-10.033892758364868,-13.620839721702932,5.2091069148788325,17.874653767691857,-15.67949368546828,-13.3145850046838,5.853986899703902,13.640114644340992,13.674890733682389,-22.269504950127303,12.24207448708183,18.436958548980733,5.98167170864875,-10.860999930654968,-8.22914196363322,7.834045883882366,-8.719255415405797,12.010912090421913,-13.363527174887592,3.8372195668385056,20.407176082181707,11.426853097105225,-17.226898336842584,17.399560723365436,1.3128107234855864,10.007733338809608,14.551915642667431,-10.593103298597397,15.906057423426216,-12.008516776949286,-5.979264491232892,-19.186714730660604,-10.925166109309917,10.973215383732143,3.98634714106179,-1.0683816062169502,-5.92207061806769,16.807613176051664,0.23062175540409718,-1.73468273060828,9.253829687093624,-16.97784687704058,16.787141638370333,2.674524533878549,-17.053490948503185,10.677853659699943,-7.015325089536543,-6.7726348688677565,20.451139992938145,5.166867426854193,-13.733352536627594,-14.971575103724076,-1.9262203946503338,-6.118591908580913,3.1706135738855066,4.665230214283283,16.62857905530967,-5.707503169164726,-16.546007127073494,-7.309330121454746,-0.3003820927094414,-4.474629657035029,8.821991033668187,15.25300960235001,-13.243269068788553,-1.063388208836082,12.100519936644877,-23.046755459490964,21.476666248491668,19.11969448242664,-11.051545999339378,-8.422178321327909,9.607412490852353,14.352274169494018,13.621662457710267,-9.29447639725141,20.351594440912585,-1.0084208842883804,6.995434832497064,-12.969156172419531,11.979082252912264,6.853089833648758,4.6065862257489325,-10.821228497439392,-16.733465738393626,3.6100026266798735,-0.4148082720547734,-3.894638474823691,-13.949995530034126,12.761999717992147,-0.7363882318890356,-5.314046703234254,12.360433308592933,-2.958190380987545,20.014069134745036,2.6933679013894114,3.0538876911469823,-2.827966627208777,6.130447323254495,17.630802928892727,13.77617553025786,-3.446468451578328,4.0956676707399895,0.9008618626339003,-13.532172852704647,-7.694913594379225,-6.917669123059769,-6.314032580060226,-2.097049692984521,-18.04731860748176,-1.5228037485554458,21.62715703383598,4.937244737267246,-3.1598423466020584,13.587883913847511,7.781023645663579,4.80652380231549,19.178069352790153,-7.233876423473019,5.107956304465052,-26.04194332518608,14.253765796564375,7.884070490259247,12.41177792123526,20.41555449714009,-3.8046743995297936,-16.099666767679544,-10.030582919631954,14.394744358805413,-6.60542625738662,0.27394451358206984,15.872773639438956,-21.79179110346128,-4.9970142775072,13.552156877963377,-24.659406017116787,4.843205593380832,-5.601679649226406,12.496063917409947,13.080063246550646,-2.3883884569094396,16.217516207606362,-11.98375981466089,-4.518151132788236,0.12166845369849333,10.989391267075233,17.06625981476284,-21.51208971687342,-18.142772423932495,18.305750286647722,-22.5192757602011,-8.90912922107708,-8.844826568665663,-14.642547086569651,-19.72604974473512,-16.209054610261433,-18.802877911833672,-23.72423863565957,3.1347653229185237,0.24329175337967612,-17.893324023532085,11.674486063384101,-1.7081532444940637,-12.581581302437815,-17.463240866545668,9.313332786810127,-0.9207598663598172,-18.912940433630926,-3.8913545985141877,20.393130459244468,-15.733105610806444,14.031486386523184,-6.503619925359718,15.052242043486189,-12.673881470711851,3.766210316493028,4.831123092561363,1.4265052095222799,-10.010976126252684,-5.551682745173124,-9.189170872104754,-22.40070190024784,0.9245950570505463,1.3907507777244377,-18.55328983364654,-18.044940268887565,-11.193450019963246,2.2735483807511465,11.426966064773103,3.740737662034466,-15.47556129375663,5.141844532092422,-4.602605996241385,-5.806285357855131,5.392476895240557,-9.201369035306875,1.6206662797192226,5.2397136262228745,-5.457040545947744,-15.166809457748775,-12.262013667602202,15.939676887873334,9.14755929708723,11.413111064393188,-16.988838471334436,12.21890147973695,20.16865872453244,-13.891366059239232,17.650350554860385,17.171963834784524,2.9135294053419125,-7.980191355271569,-16.5078147293042,3.7565306084145442,-9.133277794822334,-5.707780392564478,-18.565315867303045,8.105037534001932,-3.6415987486282173,-0.1837696288290242,17.2219411798835,-17.183240787229643,6.152848984364497,1.6410457005605745,9.986118865347773,0.511292560212127,10.021608949851382,6.436803496666633,-9.601162374607144,8.019937015342752,11.648466886710944,16.16195646618269,-14.995665301756441,1.96908752533666,20.45062556041834,7.769257871523902,-8.507541460492195,1.1073329782824222,14.532632408220914,-8.877384783263732,-21.510301453298737,-12.993134496307084,2.41477027101275,-8.9764834016052,18.717402801814377,2.650149946024396,4.756926268056241,-16.449027701514623,-5.749376850521692,5.103932862111098,-7.198874727203714,9.269522108410364,-5.27373021362058,18.356989462501428,-17.331129039381956,-18.221478534668748,-13.115114816607194,5.492407531308792,-7.020819314099641,-12.43445163872552,-6.382121466619916,21.367976986475913,11.602680634403262,-4.489478782642261,-5.534613390079083,11.344185492712551,-13.950500648912092,0.009368358306909075,-19.308411812671373,15.971498185347198,15.506656028988852,0.30559711250276944,-4.164786295534271,-1.4312017763646905,13.088070899280483,-11.813147602689995,0.1909374430010793,-5.05331726104922,0.5346506158083881,-15.091136889182676,16.83311441864306,5.664772537175949,14.605162367935945,-6.533053405631882,-5.623542494262484,-0.6124716223879709,-6.07786815124221,-4.400693842566191,-2.0517212626181114,2.6498310482376386,-8.23500614139544,-15.692504591943889,11.094908300819888,-3.8079917114128463,17.367423533027466,3.4875877420681944,6.178373801691843,12.057225023825534,-8.016711629330084,1.2119496821420912,17.312002323311603,-19.464490959553856,4.6556977952065495,-9.69844326976139,0.4626432935975504,8.496578411795703,-22.293555565446486,-15.806760631911109,13.583145332454787,15.711780994134017,-9.19657466537942,18.390865404949153,-8.163085122733532,17.45624753375915,4.38582388403101,11.860195281050954,-17.191591924126673,-12.507372901696776,-5.096316084488956,1.5940882896912787,8.826202469380139,9.812159511227444,-8.25889337725978,15.804012616717046,13.925112471724129,-15.72775681074596,4.034641413906759,2.6780458020627296,16.523222917997657,14.817249544114327,-2.3770481032922506,-0.4114746399241217,-3.454252199407253,4.084064048678416,2.974809853684207,-15.725089352641575,7.942216184108751,19.43778570256882,19.35325669543863,-0.7234996998798362,18.000088643851683,-11.45456162460253,-23.8197230824231,0.8190589976769944,-9.726754663584657,7.633427921756052,4.025405175739394,3.9250685759057524,17.934104322342435,3.2496810632634596,10.20511707904326,7.2788706870154405,-1.2985624988750464,-3.047507321648249,8.905847390988889,-2.6327020128588523,6.578981744144919,6.974789931686447,-12.618959391100669,10.215773268149393,-10.078558540428942,-6.286713089906188,2.455092322871607,-9.436323963344826,12.216348657946817,12.647620816993818,-19.892688561378716,-11.893302850261593,11.701309794839862,8.62204554926305,10.054543765306615,-10.790335212441212,3.099866459995488,-15.499537275668871,13.548523399685735,0.8767587203891131,-6.475823151329816,4.879585118701334,-12.383454256906617,16.0782947646738,-4.066937119502715,8.581830436700335,5.747089402597321,7.688617583142353,19.53486568990671,-9.031045398934769,5.278921126979014,-4.562844839196469,-24.419826460737184,16.58424710532754,12.443916523957443,2.1937536262196686,7.2219963336527835,-11.682491014498483,-1.4273748683399157,-6.269797762939075,9.148529351812025,6.147428847778484,-8.668535481104863,-4.570547667275896,9.92855434264941,17.03600567115899,-1.699123765990574,-13.074844675516395,14.679249101808528,10.620017256220791,-15.002256334278304,20.222809638911468,3.1451027520313386,5.796015528351384,7.956621963191142,17.260414814046314,12.300222518536998,-23.308525738344514,15.45989989350818,11.719859718556837,10.564640871003679,3.027233995682388,-8.90745891128529,-10.492749099802374,-12.256904373056535,-13.320337836965596,-10.791328493551486,-16.344656043800878,-0.22737946160912798,-9.057262320550906,-5.101679920707708,2.914504268630489,-6.153642916452587,6.183932833586156,-4.564801680399813,-9.205947192192825,3.697702026204785,-8.825480020768827,10.417988065306716,4.8142943943833085,4.726210034198741,-4.867677283037757,8.396968378034147,5.745793836086806,-0.16877861570549402,9.589442615925636,-6.165527755415407,6.8773202224444745,-9.910918686152526,4.722429616059459,8.802528484208098,17.40771767361835,0.598352609163844,1.157671272439551,0.9823407101473974,-5.200466000828009,-17.61441786044248,-10.710928404652888,13.730825987974233,-13.347881672475944,-17.690751456968332,-6.587547455513554,-2.911873212097583,8.363991375756365,7.709960752282085,-14.343161917046004,-4.30073904096051,-9.578024338377496,0.14189004154957763,18.386861032701844,9.875084474948183,6.1623329843067385,6.305023789502926,15.791008354752005,5.990150213727068,-6.487442667451105,-16.73346064348429,-8.482105266992669,11.9107773384373,-2.3094980461007584,8.779270689233359,-10.024180565689052,12.945446814779109,0.09183551847918586,-2.3526651900286075,11.686003757575769,-8.446850522499897,-2.261156270895458,-9.730926573348036,0.39220940520488734,12.187337908152966,2.9651958223936172,14.295116138469153,19.03106973846777,0.870907422177887,-7.801891356365385,-15.277070645272953,-12.67774905969398,1.6445919561362816,-6.349267206664043,17.817286449095338,-4.506050510380802,3.216923537176555,-22.306301794510247,6.992930002443923,10.907881509685957,-4.540653853608757,1.4822325612759903,15.549830133594337,-13.096554967707513,1.6738270857714894,-7.4695448524450985,8.305079976487237,-4.418237892284931,-6.292205515635199,-7.753923039455004,-2.846932802489428,11.481020931685977,1.6965142834381248,21.52364231351728,-2.1728320213678107,17.623827067458137,11.725663738152166,10.648152561132122,-4.552421436882332,2.5742980431246743,-13.245638309757794,-11.15368401464184,-11.96882968254814,-10.473798760310972,2.20876596788079,14.37602337790403,9.532102925836107,11.568777230345944,-21.27878027995277,-12.157892452163829,1.9631726673759655,-9.637225362972973,-6.7434829159106195,-3.391351513097087,-19.663252745661822,-9.98224581373736,13.821466488166973,-9.143458666278898,6.911375650528084,-9.004094519352087,10.78166052305027,0.5335099351698648,16.60101534983595,20.239393291744367,-3.887972858301113,-7.083962848356587,10.997258646213526,13.59732458763519,-7.880389371211445,-4.6289030150173796,-9.759208235979148,0.32597996196878565,0.270205766208635,13.570744478219202,-0.490712905634643,-19.70039066740562,-5.513916534998731,-22.437815298183285,0.8510861052172947,-6.864003430719232,-2.420434452943489,-14.211347601599758,0.3081733454838229,-0.892528981544466,-0.45636867800269926,17.502127913103305,-10.368310517116218,1.0211430919597961,13.175250080736253,9.652223905964599,8.77676304310199,0.0024339507638341216,15.684454678401986,14.054315674451765,-9.818377946540819,-14.950409137968409,4.856001962156684,13.338070879823285,-12.131515848846615,13.551000803521847,-8.662106572836423,2.5530399355565705,12.525284572476604,19.373779102824464,-20.059829955627187,2.65856410218842,7.624458306856844,6.208130640670366,8.912178972158332,-4.164974004670055,-2.588911362492785,10.72362995274029,13.761059552938617,2.7160253606239295,9.515290693471986,20.56775013856082,0.5283318053258916,-0.8123792662765866,-15.790318445541182,-0.7279193632177308,2.3999813151573424,5.792327803621219,6.818186870295195,-14.108940658763846,-0.1159060493279875,5.952281468266622,-16.23398794787858,6.872154353866307,-1.6651618419721324,-12.275485970597035,-19.269791255569057,11.33438635738118,-4.139877585444719,-8.709118054185543,15.300490445516498,-3.213156269505471,16.987755860186766,15.015410003052507,17.19980298945163,4.371859060134582,-11.98474684616174,0.4967869689090932,-11.20379812285926,0.2566429696472614,2.940149896068509,-17.840311474169123,-4.453607122967945,-7.588021957562033,-0.01534936601581987,9.08775750121907,10.112583148166234,-9.416653173755128,11.934206519417469,-0.8595005750807871,-13.270808214026735,-8.006248592149424,-18.160940307737228,21.974227330678826,4.883277973031796,13.24142465741249,-14.317309845247408,7.800002302538461,-1.9247140480443115,-8.719705223459357,-12.003934593141091,-9.925178160693005,-0.15577231669543648,4.54729980561821,-9.966591283396182,-8.462074972053031,-18.70887923892833,20.91861230039962,-6.617649896897927,0.8548844294725817,12.893092525786367,7.74351306181819,2.3319573308704884,-1.7419505670723066,-5.394424943056958,-9.845499084673465,12.502312840042615,-9.791392494562503,-13.187450732549538,3.5448200427841123,-6.1971021612369395,10.05672442697322,13.020555092888511,-16.34642297934002,-5.120441528009982,-3.2098940972132857,-8.173174082184852,-8.245779733188582,-8.693557520038182,1.804200102842744,-0.3298234264766868,7.181000193318546,21.948544644999515,2.204690970955906,-13.14812586598402,12.240558928042146,18.257637790088715,-7.0224281882508945,3.327434409149445,8.489224887878338,-16.325780619102442,19.350584487995953,2.02339899058873,7.146512778589925,7.565299730587386,-16.523266220129393,-12.52212967567227,7.155280477043273,17.550223027421865,4.397082618549108,-3.9019704673002447,-7.221260137458932,-7.7991934786668615,-8.217468519593348,0.1674130835759777,-9.633875683688442,7.768745968130695,-2.3817260576371755]}},\"id\":\"89aba919-d13d-4950-824b-44f6b9650759\",\"type\":\"ColumnDataSource\"},{\"attributes\":{},\"id\":\"57ae0ef5-6761-4304-a8ad-5ae74d8110bb\",\"type\":\"ToolEvents\"},{\"attributes\":{},\"id\":\"4962d76d-333a-4dba-bc86-3a82d8c8d816\",\"type\":\"BasicTicker\"},{\"attributes\":{\"plot\":{\"id\":\"bfeb0619-ed2f-4306-834d-9a7332821484\",\"subtype\":\"Figure\",\"type\":\"Plot\"}},\"id\":\"b670363e-c489-41d5-adb5-463722e087d0\",\"type\":\"ResetTool\"},{\"attributes\":{\"formatter\":{\"id\":\"57e843eb-419d-424b-a6ec-7fbce94bfdf4\",\"type\":\"BasicTickFormatter\"},\"plot\":{\"id\":\"bfeb0619-ed2f-4306-834d-9a7332821484\",\"subtype\":\"Figure\",\"type\":\"Plot\"},\"ticker\":{\"id\":\"4962d76d-333a-4dba-bc86-3a82d8c8d816\",\"type\":\"BasicTicker\"}},\"id\":\"b4fa53c1-9add-493b-bb2e-f41c3a39d587\",\"type\":\"LinearAxis\"},{\"attributes\":{\"plot\":null,\"text\":\"word2vec T-SNE for most common words\"},\"id\":\"8cccc831-ce07-4751-b97a-02228d92ad74\",\"type\":\"Title\"},{\"attributes\":{\"below\":[{\"id\":\"b4fa53c1-9add-493b-bb2e-f41c3a39d587\",\"type\":\"LinearAxis\"}],\"left\":[{\"id\":\"226c3bb3-8252-4167-ab75-2abd187abc53\",\"type\":\"LinearAxis\"}],\"renderers\":[{\"id\":\"b4fa53c1-9add-493b-bb2e-f41c3a39d587\",\"type\":\"LinearAxis\"},{\"id\":\"74da52ee-6c49-4156-811b-aa6ce15661cb\",\"type\":\"Grid\"},{\"id\":\"226c3bb3-8252-4167-ab75-2abd187abc53\",\"type\":\"LinearAxis\"},{\"id\":\"f41d4c92-897c-401b-b189-121039a105de\",\"type\":\"Grid\"},{\"id\":\"2cf1586c-f039-45c6-8158-02797cc6fbee\",\"type\":\"GlyphRenderer\"},{\"id\":\"9db66592-e6d3-45de-906d-75332c7a1cc3\",\"type\":\"LabelSet\"}],\"title\":{\"id\":\"8cccc831-ce07-4751-b97a-02228d92ad74\",\"type\":\"Title\"},\"tool_events\":{\"id\":\"57ae0ef5-6761-4304-a8ad-5ae74d8110bb\",\"type\":\"ToolEvents\"},\"toolbar\":{\"id\":\"1ff7a28c-65a7-40ae-bbd6-4cc19d28c67f\",\"type\":\"Toolbar\"},\"toolbar_location\":\"above\",\"x_range\":{\"id\":\"1a06a9a0-c2a5-4832-b956-7a3729733a5b\",\"type\":\"DataRange1d\"},\"y_range\":{\"id\":\"9e3b1c93-ae6f-4d2d-95b5-dd2a7c49b777\",\"type\":\"DataRange1d\"}},\"id\":\"bfeb0619-ed2f-4306-834d-9a7332821484\",\"subtype\":\"Figure\",\"type\":\"Plot\"},{\"attributes\":{\"fill_color\":{\"value\":\"#1f77b4\"},\"line_color\":{\"value\":\"#1f77b4\"},\"size\":{\"units\":\"screen\",\"value\":8},\"x\":{\"field\":\"x1\"},\"y\":{\"field\":\"x2\"}},\"id\":\"5faaeb96-d521-4b46-b5c1-06dd1ed0dc33\",\"type\":\"Circle\"},{\"attributes\":{\"plot\":{\"id\":\"bfeb0619-ed2f-4306-834d-9a7332821484\",\"subtype\":\"Figure\",\"type\":\"Plot\"},\"ticker\":{\"id\":\"4962d76d-333a-4dba-bc86-3a82d8c8d816\",\"type\":\"BasicTicker\"}},\"id\":\"74da52ee-6c49-4156-811b-aa6ce15661cb\",\"type\":\"Grid\"},{\"attributes\":{},\"id\":\"935da833-f346-4624-9868-b2e434b5e898\",\"type\":\"BasicTicker\"},{\"attributes\":{\"fill_alpha\":{\"value\":0.1},\"fill_color\":{\"value\":\"#1f77b4\"},\"line_alpha\":{\"value\":0.1},\"line_color\":{\"value\":\"#1f77b4\"},\"size\":{\"units\":\"screen\",\"value\":8},\"x\":{\"field\":\"x1\"},\"y\":{\"field\":\"x2\"}},\"id\":\"c293872e-1bc8-4db6-ba23-165119b653be\",\"type\":\"Circle\"},{\"attributes\":{\"data_source\":{\"id\":\"89aba919-d13d-4950-824b-44f6b9650759\",\"type\":\"ColumnDataSource\"},\"glyph\":{\"id\":\"5faaeb96-d521-4b46-b5c1-06dd1ed0dc33\",\"type\":\"Circle\"},\"hover_glyph\":null,\"nonselection_glyph\":{\"id\":\"c293872e-1bc8-4db6-ba23-165119b653be\",\"type\":\"Circle\"},\"selection_glyph\":null},\"id\":\"2cf1586c-f039-45c6-8158-02797cc6fbee\",\"type\":\"GlyphRenderer\"},{\"attributes\":{\"dimension\":1,\"plot\":{\"id\":\"bfeb0619-ed2f-4306-834d-9a7332821484\",\"subtype\":\"Figure\",\"type\":\"Plot\"},\"ticker\":{\"id\":\"935da833-f346-4624-9868-b2e434b5e898\",\"type\":\"BasicTicker\"}},\"id\":\"f41d4c92-897c-401b-b189-121039a105de\",\"type\":\"Grid\"}],\"root_ids\":[\"bfeb0619-ed2f-4306-834d-9a7332821484\"]},\"title\":\"Bokeh Application\",\"version\":\"0.12.2\"}};\n",
       "            var render_items = [{\"docid\":\"51d8ec0d-b578-43c0-b817-2dcf896bb685\",\"elementid\":\"e54d1878-c908-4001-9851-bce6b3edda3c\",\"modelid\":\"bfeb0619-ed2f-4306-834d-9a7332821484\"}];\n",
       "            \n",
       "            Bokeh.embed.embed_items(docs_json, render_items);\n",
       "        });\n",
       "      },\n",
       "      function(Bokeh) {\n",
       "      }\n",
       "    ];\n",
       "  \n",
       "    function run_inline_js() {\n",
       "      \n",
       "      if ((window.Bokeh !== undefined) || (force === \"1\")) {\n",
       "        for (var i = 0; i < inline_js.length; i++) {\n",
       "          inline_js[i](window.Bokeh);\n",
       "        }if (force === \"1\") {\n",
       "          display_loaded();\n",
       "        }} else if (Date.now() < window._bokeh_timeout) {\n",
       "        setTimeout(run_inline_js, 100);\n",
       "      } else if (!window._bokeh_failed_load) {\n",
       "        console.log(\"Bokeh: BokehJS failed to load within specified timeout.\");\n",
       "        window._bokeh_failed_load = true;\n",
       "      } else if (!force) {\n",
       "        var cell = $(\"#e54d1878-c908-4001-9851-bce6b3edda3c\").parents('.cell').data().cell;\n",
       "        cell.output_area.append_execute_result(NB_LOAD_WARNING)\n",
       "      }\n",
       "  \n",
       "    }\n",
       "  \n",
       "    if (window._bokeh_is_loading === 0) {\n",
       "      console.log(\"Bokeh: BokehJS loaded, going straight to plotting\");\n",
       "      run_inline_js();\n",
       "    } else {\n",
       "      load_libs(js_urls, function() {\n",
       "        console.log(\"Bokeh: BokehJS plotting callback run at\", now());\n",
       "        run_inline_js();\n",
       "      });\n",
       "    }\n",
       "  }(this));\n",
       "</script>"
      ]
     },
     "metadata": {},
     "output_type": "display_data"
    }
   ],
   "source": [
    "p = figure(tools=\"pan,wheel_zoom,reset,save\",\n",
    "           toolbar_location=\"above\",\n",
    "           title=\"word2vec T-SNE for most common words\")\n",
    "\n",
    "source = ColumnDataSource(data=dict(x1=words_top_wiki_tsne[:,0],\n",
    "                                    x2=words_top_wiki_tsne[:,1],\n",
    "                                    names=words_top_wiki))\n",
    "\n",
    "p.scatter(x=\"x1\", y=\"x2\", size=8, source=source)\n",
    "\n",
    "labels = LabelSet(x=\"x1\", y=\"x2\", text=\"names\", y_offset=6,\n",
    "                  text_font_size=\"8pt\", text_color=\"#555555\",\n",
    "                  source=source, text_align='center')\n",
    "p.add_layout(labels)\n",
    "\n",
    "show(p)"
   ]
  },
  {
   "cell_type": "code",
   "execution_count": null,
   "metadata": {
    "collapsed": true
   },
   "outputs": [],
   "source": []
  }
 ],
 "metadata": {
  "anaconda-cloud": {},
  "kernelspec": {
   "display_name": "Python [default]",
   "language": "python",
   "name": "python3"
  }
 },
 "nbformat": 4,
 "nbformat_minor": 0
}
